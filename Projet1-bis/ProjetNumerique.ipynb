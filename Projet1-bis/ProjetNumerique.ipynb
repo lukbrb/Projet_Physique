{
 "cells": [
  {
   "cell_type": "markdown",
   "id": "cardiovascular-stanley",
   "metadata": {},
   "source": [
    "# Effondrement à symétrie sphérique en cosmologie #"
   ]
  },
  {
   "cell_type": "markdown",
   "id": "accurate-topic",
   "metadata": {},
   "source": [
    "## 1. Introduction ##"
   ]
  },
  {
   "cell_type": "markdown",
   "id": "armed-behavior",
   "metadata": {},
   "source": [
    "Le but de ce projet est de calculer le temps d'effondrement d'une surdensité initiale dans un univers en expansion. On considerera un univers dit de Einstein - de Sitter, de densité moyenne $\\Omega_m = 1$. Dans ce projet, servant de résumé et de remise à niveau du projet initial, nous couvrirons :\n",
    "   - La résolution de l'équation différentielle en régime linéaire \n",
    "   - La résolution de l'équation différentielle en régime non-linéaire\n",
    "   - L'itération sur la surdensité initiale telle que le temps d'effondement soit égal à $t_{eff} = \\frac{2}{3H_0}$\n",
    "   - L'influence des différents paramètres choisis (surdensité initiale $\\delta_i$, surdensité d'effondrement $\\delta_{eff}$, le pas de temps ...\n",
    "   - L'effondrement plus *physique*, saturant à la surdensité viriel\n",
    "   - Nous nous intéresserons également à certaines bibliothèques permettant en théorie de réduire le de temps de calcul"
   ]
  },
  {
   "cell_type": "markdown",
   "id": "diagnostic-resistance",
   "metadata": {},
   "source": [
    "**Imports :**"
   ]
  },
  {
   "cell_type": "code",
   "execution_count": 20,
   "id": "anonymous-amazon",
   "metadata": {},
   "outputs": [],
   "source": [
    "import numpy as np\n",
    "from scipy.integrate import odeint\n",
    "import matplotlib.pyplot as plt"
   ]
  },
  {
   "cell_type": "markdown",
   "id": "dress-procurement",
   "metadata": {},
   "source": [
    "**Déclaration des variables**"
   ]
  },
  {
   "cell_type": "code",
   "execution_count": 21,
   "id": "maritime-costa",
   "metadata": {},
   "outputs": [],
   "source": [
    "Mp = 3.08567758 * 1e22  # Valeur d'un mégaparsec\n",
    "H0 = 7 * 1e4 / Mp  # Constante de Hubble Actuelle\n",
    "G = 6.6742 * 1e-11  # Constante de gravitation\n",
    "rho_crit = (3 * H0 ** 2) / (8 * np.pi * G)  # Densité critique\n",
    "sig = 1  # Densité de l'univers\n",
    "milliard_annee = 3600 * 24 * 365 * 1e9 # Un milliard d'années en secondes"
   ]
  },
  {
   "cell_type": "markdown",
   "id": "impossible-console",
   "metadata": {},
   "source": [
    "**Conditions initiales :**    \n",
    "On veut $t_i$ très petit devant $1/H_0$, or $1/H_0 = 4.4e17s$ ( = 13 952 308 472 ans)  \n",
    "On peut donc prendre $t_i$ = 300 000 ans par exemple  \n"
   ]
  },
  {
   "cell_type": "code",
   "execution_count": 22,
   "id": "norman-vegetarian",
   "metadata": {},
   "outputs": [],
   "source": [
    "ti = 300000 * 365 * 24 * 3600\n",
    "tf = 1 / H0"
   ]
  },
  {
   "cell_type": "markdown",
   "id": "artistic-subdivision",
   "metadata": {},
   "source": [
    "**Grille de temps :**"
   ]
  },
  {
   "cell_type": "code",
   "execution_count": 23,
   "id": "animal-petroleum",
   "metadata": {},
   "outputs": [],
   "source": [
    "N = 5000\n",
    "ttab = np.linspace(ti, tf, N)\n",
    "dt = (tf - ti) / N  # DEFINITION DU PAS DE TEMPS\n",
    "ttab_milliard = ttab / milliard_annee # Grille de temps en miliards d'années"
   ]
  },
  {
   "cell_type": "markdown",
   "id": "vanilla-there",
   "metadata": {},
   "source": [
    "**Constante de Hubble :**"
   ]
  },
  {
   "cell_type": "code",
   "execution_count": 24,
   "id": "covered-aging",
   "metadata": {},
   "outputs": [],
   "source": [
    "def H(t):\n",
    "    return 2 / (3 * t)"
   ]
  },
  {
   "cell_type": "markdown",
   "id": "placed-column",
   "metadata": {},
   "source": [
    "**Facteur d'expansion :**"
   ]
  },
  {
   "cell_type": "code",
   "execution_count": 25,
   "id": "separated-parks",
   "metadata": {},
   "outputs": [],
   "source": [
    "def a(t):\n",
    "    return (1.5 * H0 * t) ** (2 / 3)"
   ]
  },
  {
   "cell_type": "markdown",
   "id": "documentary-ethnic",
   "metadata": {},
   "source": [
    "**Densité moyenne :**"
   ]
  },
  {
   "cell_type": "code",
   "execution_count": 26,
   "id": "limiting-solution",
   "metadata": {},
   "outputs": [],
   "source": [
    "def rho_m(t):\n",
    "    return (sig * rho_crit) / (a(t) ** 3)"
   ]
  },
  {
   "cell_type": "markdown",
   "id": "cardiovascular-stranger",
   "metadata": {},
   "source": [
    "## 2. Solution linéaire ##"
   ]
  },
  {
   "cell_type": "markdown",
   "id": "enhanced-responsibility",
   "metadata": {},
   "source": [
    "- On définit la fonction que l'on veut résoudre. On a ici enlevé les termes non-linéaires. On l'écrit également en forme vectorielle pour la résoudre à l'aide de scipy.integrate.odeint"
   ]
  },
  {
   "cell_type": "code",
   "execution_count": 27,
   "id": "other-joseph",
   "metadata": {},
   "outputs": [],
   "source": [
    "def fonction(delta_et_p, ttab):\n",
    "    return -2 * H(ttab) * delta_et_p[1] + 1.5 * (H(ttab) ** 2) * delta_et_p[0]\n",
    "\n",
    "def equation(delta_et_p, ttab):\n",
    "    return [delta_et_p[1], -2 * H(ttab) * delta_et_p[1] + 1.5 * (H(ttab) ** 2) * delta_et_p[0]]"
   ]
  },
  {
   "cell_type": "markdown",
   "id": "fewer-mixer",
   "metadata": {},
   "source": [
    "### Implémentation de Runge-Kutta "
   ]
  },
  {
   "cell_type": "markdown",
   "id": "wound-gates",
   "metadata": {},
   "source": [
    "**Runge-Kutta 2**"
   ]
  },
  {
   "cell_type": "code",
   "execution_count": 28,
   "id": "presidential-convention",
   "metadata": {},
   "outputs": [],
   "source": [
    "def rk2_lin(delta_i, delta_eff):\n",
    "    pi = delta_i * H(ti)\n",
    "    delta_p = np.zeros((len(ttab), 2))\n",
    "    delta_p[0, 0], delta_p[0, 1] = delta_i, pi\n",
    "    for n in range(1, len(ttab)):\n",
    "        t = ttab[n]\n",
    "        if (delta_p[n - 1, 0] and delta_p[n - 1, 1]) < delta_eff:\n",
    "            k1 = -2 * H(t) * delta_p[n - 1, 1] + 1.5 * (H(t) ** 2) * delta_p[n - 1, 0]\n",
    "            k2 = fonction([delta_p[n - 1, 0], delta_p[n - 1, 1] + dt * k1], t + dt)\n",
    "            delta_p[n, 1] = delta_p[n - 1, 1] + 0.5 * dt * (k1 + k2)\n",
    "            delta_p[n, 0] = delta_p[n - 1, 0] + delta_p[n - 1, 1] * dt\n",
    "        else:\n",
    "            print(\"Le temps d'effondrement pour δi =\", delta_i, \"est de \", ttab[n] / milliard_annee,\n",
    "                  \"milliards d'années\", \"indice:\", n)\n",
    "    return delta_p"
   ]
  },
  {
   "cell_type": "markdown",
   "id": "serial-egypt",
   "metadata": {},
   "source": [
    "**Runge-Kutta 4**"
   ]
  },
  {
   "cell_type": "code",
   "execution_count": 29,
   "id": "beneficial-banner",
   "metadata": {},
   "outputs": [],
   "source": [
    "def rk4_lin(delta_i, delta_eff):\n",
    "    pi = delta_i * H(ti)\n",
    "    delta_p = np.zeros((len(ttab), 2))\n",
    "    delta_p[0, 0], delta_p[0, 1] = delta_i, pi\n",
    "    for n in range(1, len(ttab)):\n",
    "        t = ttab[n]\n",
    "        if (delta_p[n - 1, 0] and delta_p[n - 1, 1]) < delta_eff:\n",
    "            k1 = -2 * H(t) * delta_p[n - 1, 1] + 1.5 * (H(t) ** 2) * delta_p[n - 1, 0]\n",
    "            k2 = fonction([delta_p[n - 1, 0], delta_p[n - 1, 1] + (dt * k1) / 2], t + dt / 2)\n",
    "            k3 = fonction([delta_p[n - 1, 0], delta_p[n - 1, 1] + (dt * k2) / 2], t + dt / 2)\n",
    "            k4 = fonction([delta_p[n - 1, 0], delta_p[n - 1, 1] + (dt * k3) / 2], t + dt)\n",
    "            delta_p[n, 1] = delta_p[n - 1, 1] + (dt / 6) * (k1 + 2 * k2 + 2 * k3 + k4)\n",
    "            delta_p[n, 0] = delta_p[n - 1, 0] + delta_p[n - 1, 1] * dt\n",
    "        else:\n",
    "            temps_eff = ttab[n]\n",
    "    if delta_p[-1, 0] != 0:\n",
    "        temps_eff = 0\n",
    "        print(\"La surdensité ne s'est pas encore effondrée \")\n",
    "\n",
    "    return delta_p\n"
   ]
  },
  {
   "cell_type": "markdown",
   "id": "agricultural-lingerie",
   "metadata": {},
   "source": [
    "**Solutions**"
   ]
  },
  {
   "cell_type": "code",
   "execution_count": null,
   "id": "alternate-responsibility",
   "metadata": {},
   "outputs": [],
   "source": []
  },
  {
   "cell_type": "markdown",
   "id": "optimum-hampshire",
   "metadata": {},
   "source": [
    "  \n",
    "\n",
    "\n",
    "|                       | **Runge-Kutta 2** | **Runge-Kutta 4** |  **Scipy.integrate.odeint** |\n",
    "|-----------------------|-------------------|-------------------|-----------------------------|\n",
    "| **Solution :**        |                   |                   |                             |   \n",
    "| **Temps de calcul :** |                   |                   |                             | \n"
   ]
  },
  {
   "cell_type": "markdown",
   "id": "clear-rwanda",
   "metadata": {},
   "source": [
    "**Graphes**"
   ]
  },
  {
   "cell_type": "code",
   "execution_count": null,
   "id": "hollywood-alloy",
   "metadata": {},
   "outputs": [],
   "source": []
  },
  {
   "cell_type": "markdown",
   "id": "destroyed-hygiene",
   "metadata": {},
   "source": [
    "## 3. Solution non-linéaire"
   ]
  },
  {
   "cell_type": "markdown",
   "id": "spectacular-switzerland",
   "metadata": {},
   "source": [
    "### Implémentation de Runge-Kutta "
   ]
  },
  {
   "cell_type": "markdown",
   "id": "stuffed-daughter",
   "metadata": {},
   "source": [
    "**Runge-Kutta 2**"
   ]
  },
  {
   "cell_type": "code",
   "execution_count": 30,
   "id": "hidden-indication",
   "metadata": {},
   "outputs": [],
   "source": [
    "def rk2 (delta_i,delta_eff):\n",
    "    tps1 = time.time()\n",
    "    pi= delta_i * H(ti)\n",
    "    delta_p=np.zeros((len(ttab),2))\n",
    "    delta_p[0,0],delta_p[0,1]=delta_i,pi\n",
    "    for n in range (1,len(ttab)):\n",
    "        t=ttab[n]\n",
    "        if (delta_p[n - 1, 0] and delta_p[n - 1, 1]) < delta_eff:  # Condition pour s'assurer que delta ne diverge pas\n",
    "            k1=-2*H(t)*delta_p[n-1, 1] + 1.5*(H(t)**2)*delta_p[n-1, 0]*(1+delta_p[n-1, 0])\\\n",
    "               +(4/3)*((delta_p[n-1,1]**2)/(1+delta_p[n-1, 0]))\n",
    "            k2= fonction([delta_p[n-1,0],delta_p[n-1,1]+dt*k1],t+dt)\n",
    "            delta_p[n,1]= delta_p[n-1,1] + 0.5*dt*(k1+k2)\n",
    "            delta_p[n,0]= delta_p[n-1,0] + delta_p[n-1,1]*dt\n",
    "        else:\n",
    "            delta_p[n, 0] = delta_eff + 1\n",
    "            delta_p[n, 1] = delta_p[n - 1, 1]\n",
    "    delta_p[delta_p[:, 0] > delta_eff, 0] = delta_eff\n",
    "    argmax = delta_p[:, 1].argmax()\n",
    "    delta_p[delta_p[:, 1] > delta_p[argmax - 1, 1], 1] = delta_p[argmax - 1, 1]\n",
    "    if delta_p[-1,0] != delta_eff:\n",
    "        temps_eff=0\n",
    "        print(\"La surdensité ne s'est pas encore effondrée \")\n",
    "    else:\n",
    "        argmax=delta_p[:,0].argmax()\n",
    "        temps_eff=ttab[argmax]\n",
    "        print(\"Effondrement à \", temps_eff / milliard_annee, \"milliards d'années, indice\", argmax)\n",
    "    tps2 = time.time()\n",
    "    print(\"Temps de calcul RK2 :\",tps2 - tps1,\"secondes\")\n",
    "    return (delta_p,temps_eff)\n"
   ]
  },
  {
   "cell_type": "markdown",
   "id": "illegal-abraham",
   "metadata": {},
   "source": [
    "**Runge-Kutta 4**"
   ]
  },
  {
   "cell_type": "code",
   "execution_count": 31,
   "id": "posted-ambassador",
   "metadata": {},
   "outputs": [],
   "source": [
    "def rk4(delta_i, delta_eff):\n",
    "    tps1 = time.time()\n",
    "    pi = delta_i * H(ti)\n",
    "    delta_p = np.zeros((len(ttab), 2))\n",
    "    delta_p[0, 0], delta_p[0, 1] = delta_i, pi\n",
    "    for n in range(1, len(ttab)):\n",
    "        t = ttab[n]\n",
    "        if (delta_p[n - 1, 0] and delta_p[n - 1, 1]) < delta_eff: # Condition pour s'assurer que delta ne diverge pas\n",
    "            k1 = -2 * H(t) * delta_p[n - 1, 1] + 1.5 * (H(t) ** 2) * delta_p[n - 1, 0] * (1 + delta_p[n - 1, 0]) \\\n",
    "                 + (4 / 3) * ((delta_p[n - 1, 1] ** 2) / (1 + delta_p[n - 1, 0]))\n",
    "            k2 = fonction([delta_p[n - 1, 0], delta_p[n - 1, 1] + (dt * k1) / 2], t + dt / 2)\n",
    "            k3 = fonction([delta_p[n - 1, 0], delta_p[n - 1, 1] + (dt * k2) / 2], t + dt / 2)\n",
    "            k4 = fonction([delta_p[n - 1, 0], delta_p[n - 1, 1] + (dt * k3) / 2], t + dt)\n",
    "            delta_p[n, 1] = delta_p[n - 1, 1] + (dt / 6) * (k1 + 2 * k2 + 2 * k3 + k4)\n",
    "            delta_p[n, 0] = delta_p[n - 1, 0] + delta_p[n - 1, 1] * dt\n",
    "        else:\n",
    "            delta_p[n, 0] = delta_eff + 1\n",
    "            delta_p[n, 1] = delta_p[n - 1, 1]\n",
    "    delta_p[delta_p[:, 0] > delta_eff, 0] = delta_eff\n",
    "    argmax = delta_p[:, 1].argmax()\n",
    "    delta_p[delta_p[:, 1] > delta_p[argmax - 1, 1], 1] = delta_p[argmax - 1, 1]\n",
    "    if delta_p[-1, 0] != delta_eff:\n",
    "        temps_eff = 0\n",
    "        print(\"La surdensité ne s'est pas encore effondrée \")\n",
    "    else:\n",
    "        argmax = delta_p[:, 0].argmax()\n",
    "        temps_eff = ttab[argmax]\n",
    "        print(\"Effondrement à \", temps_eff / milliard_annee, \"milliards d'années, indice\", argmax)\n",
    "    tps2 = time.time()\n",
    "    print(\"Temps de calcul RK4 :\", tps2 - tps1, \"secondes\")\n",
    "    return (delta_p, temps_eff)\n"
   ]
  },
  {
   "cell_type": "markdown",
   "id": "actual-williams",
   "metadata": {},
   "source": [
    "**Solutions**"
   ]
  },
  {
   "cell_type": "code",
   "execution_count": null,
   "id": "nuclear-willow",
   "metadata": {},
   "outputs": [],
   "source": []
  },
  {
   "cell_type": "markdown",
   "id": "choice-option",
   "metadata": {},
   "source": [
    "\n",
    "\n",
    "|                       | **Runge-Kutta 2** | **Runge-Kutta 4** |  **Scipy.integrate.odeint** |\n",
    "|-----------------------|-------------------|-------------------|-----------------------------|\n",
    "| **Solution :**        |                   |                   |                             |   \n",
    "| **Temps de calcul :** |                   |                   |                             | \n"
   ]
  },
  {
   "cell_type": "markdown",
   "id": "infinite-yellow",
   "metadata": {},
   "source": [
    "**Graphes**"
   ]
  },
  {
   "cell_type": "code",
   "execution_count": null,
   "id": "silver-induction",
   "metadata": {},
   "outputs": [],
   "source": []
  },
  {
   "cell_type": "markdown",
   "id": "liberal-chess",
   "metadata": {},
   "source": [
    "## 4. Itérations sur les paramètres"
   ]
  },
  {
   "cell_type": "markdown",
   "id": "respiratory-terminal",
   "metadata": {},
   "source": [
    "### 1. Itération sur la surdensité initiale $\\delta_i$"
   ]
  },
  {
   "cell_type": "code",
   "execution_count": 32,
   "id": "hazardous-tender",
   "metadata": {},
   "outputs": [
    {
     "ename": "NameError",
     "evalue": "name 'time' is not defined",
     "output_type": "error",
     "traceback": [
      "\u001b[1;31m---------------------------------------------------------------------------\u001b[0m",
      "\u001b[1;31mNameError\u001b[0m                                 Traceback (most recent call last)",
      "\u001b[1;32m<ipython-input-32-ae7d56bbadb9>\u001b[0m in \u001b[0;36m<module>\u001b[1;34m\u001b[0m\n\u001b[0;32m      4\u001b[0m \u001b[0msurd_init\u001b[0m \u001b[1;33m=\u001b[0m \u001b[0mnp\u001b[0m\u001b[1;33m.\u001b[0m\u001b[0mlinspace\u001b[0m\u001b[1;33m(\u001b[0m\u001b[1;36m0.001777656936645508\u001b[0m\u001b[1;33m,\u001b[0m \u001b[1;36m15\u001b[0m \u001b[1;33m*\u001b[0m \u001b[1;36m0.001777656936645508\u001b[0m\u001b[1;33m,\u001b[0m \u001b[1;36m100\u001b[0m\u001b[1;33m)\u001b[0m\u001b[1;33m\u001b[0m\u001b[1;33m\u001b[0m\u001b[0m\n\u001b[0;32m      5\u001b[0m \u001b[1;32mfor\u001b[0m \u001b[0mdelta_i\u001b[0m \u001b[1;32min\u001b[0m \u001b[1;33m(\u001b[0m\u001b[0msurd_init\u001b[0m\u001b[1;33m)\u001b[0m\u001b[1;33m:\u001b[0m\u001b[1;33m\u001b[0m\u001b[1;33m\u001b[0m\u001b[0m\n\u001b[1;32m----> 6\u001b[1;33m     \u001b[0mz\u001b[0m\u001b[1;33m,\u001b[0m \u001b[0meff\u001b[0m \u001b[1;33m=\u001b[0m \u001b[0mrk4\u001b[0m\u001b[1;33m(\u001b[0m\u001b[0mdelta_i\u001b[0m\u001b[1;33m,\u001b[0m \u001b[1;36m1e4\u001b[0m\u001b[1;33m)\u001b[0m\u001b[1;33m\u001b[0m\u001b[1;33m\u001b[0m\u001b[0m\n\u001b[0m\u001b[0;32m      7\u001b[0m     \u001b[0mtemps_eff\u001b[0m\u001b[1;33m.\u001b[0m\u001b[0mwrite\u001b[0m\u001b[1;33m(\u001b[0m\u001b[1;34m\"{}\\n\"\u001b[0m\u001b[1;33m.\u001b[0m\u001b[0mformat\u001b[0m\u001b[1;33m(\u001b[0m\u001b[0mstr\u001b[0m\u001b[1;33m(\u001b[0m\u001b[0meff\u001b[0m\u001b[1;33m)\u001b[0m\u001b[1;33m)\u001b[0m\u001b[1;33m)\u001b[0m\u001b[1;33m\u001b[0m\u001b[1;33m\u001b[0m\u001b[0m\n\u001b[0;32m      8\u001b[0m     \u001b[0msurdens_init\u001b[0m\u001b[1;33m.\u001b[0m\u001b[0mwrite\u001b[0m\u001b[1;33m(\u001b[0m\u001b[1;34m\"{}\\n\"\u001b[0m\u001b[1;33m.\u001b[0m\u001b[0mformat\u001b[0m\u001b[1;33m(\u001b[0m\u001b[0mstr\u001b[0m\u001b[1;33m(\u001b[0m\u001b[0mdelta_i\u001b[0m\u001b[1;33m)\u001b[0m\u001b[1;33m)\u001b[0m\u001b[1;33m)\u001b[0m\u001b[1;33m\u001b[0m\u001b[1;33m\u001b[0m\u001b[0m\n",
      "\u001b[1;32m<ipython-input-31-591ad3bae3db>\u001b[0m in \u001b[0;36mrk4\u001b[1;34m(delta_i, delta_eff)\u001b[0m\n\u001b[0;32m      1\u001b[0m \u001b[1;32mdef\u001b[0m \u001b[0mrk4\u001b[0m\u001b[1;33m(\u001b[0m\u001b[0mdelta_i\u001b[0m\u001b[1;33m,\u001b[0m \u001b[0mdelta_eff\u001b[0m\u001b[1;33m)\u001b[0m\u001b[1;33m:\u001b[0m\u001b[1;33m\u001b[0m\u001b[1;33m\u001b[0m\u001b[0m\n\u001b[1;32m----> 2\u001b[1;33m     \u001b[0mtps1\u001b[0m \u001b[1;33m=\u001b[0m \u001b[0mtime\u001b[0m\u001b[1;33m.\u001b[0m\u001b[0mtime\u001b[0m\u001b[1;33m(\u001b[0m\u001b[1;33m)\u001b[0m\u001b[1;33m\u001b[0m\u001b[1;33m\u001b[0m\u001b[0m\n\u001b[0m\u001b[0;32m      3\u001b[0m     \u001b[0mpi\u001b[0m \u001b[1;33m=\u001b[0m \u001b[0mdelta_i\u001b[0m \u001b[1;33m*\u001b[0m \u001b[0mH\u001b[0m\u001b[1;33m(\u001b[0m\u001b[0mti\u001b[0m\u001b[1;33m)\u001b[0m\u001b[1;33m\u001b[0m\u001b[1;33m\u001b[0m\u001b[0m\n\u001b[0;32m      4\u001b[0m     \u001b[0mdelta_p\u001b[0m \u001b[1;33m=\u001b[0m \u001b[0mnp\u001b[0m\u001b[1;33m.\u001b[0m\u001b[0mzeros\u001b[0m\u001b[1;33m(\u001b[0m\u001b[1;33m(\u001b[0m\u001b[0mlen\u001b[0m\u001b[1;33m(\u001b[0m\u001b[0mttab\u001b[0m\u001b[1;33m)\u001b[0m\u001b[1;33m,\u001b[0m \u001b[1;36m2\u001b[0m\u001b[1;33m)\u001b[0m\u001b[1;33m)\u001b[0m\u001b[1;33m\u001b[0m\u001b[1;33m\u001b[0m\u001b[0m\n\u001b[0;32m      5\u001b[0m     \u001b[0mdelta_p\u001b[0m\u001b[1;33m[\u001b[0m\u001b[1;36m0\u001b[0m\u001b[1;33m,\u001b[0m \u001b[1;36m0\u001b[0m\u001b[1;33m]\u001b[0m\u001b[1;33m,\u001b[0m \u001b[0mdelta_p\u001b[0m\u001b[1;33m[\u001b[0m\u001b[1;36m0\u001b[0m\u001b[1;33m,\u001b[0m \u001b[1;36m1\u001b[0m\u001b[1;33m]\u001b[0m \u001b[1;33m=\u001b[0m \u001b[0mdelta_i\u001b[0m\u001b[1;33m,\u001b[0m \u001b[0mpi\u001b[0m\u001b[1;33m\u001b[0m\u001b[1;33m\u001b[0m\u001b[0m\n",
      "\u001b[1;31mNameError\u001b[0m: name 'time' is not defined"
     ]
    }
   ],
   "source": [
    "temps_eff = open(\"temps_eff.txt\", \"w\")\n",
    "surdens_init = open(\"surdensité_initiale.txt\", \"w\")\n",
    "# On part de la surdensité qui s'effondre à l'âge de l'univers\n",
    "surd_init = np.linspace(0.001777656936645508, 15 * 0.001777656936645508, 100)\n",
    "for delta_i in (surd_init):\n",
    "    z, eff = rk4(delta_i, 1e4)\n",
    "    temps_eff.write(\"{}\\n\".format(str(eff)))\n",
    "    surdens_init.write(\"{}\\n\".format(str(delta_i)))\n",
    "temps_eff.close()\n",
    "surdens_init.close()"
   ]
  },
  {
   "cell_type": "markdown",
   "id": "italian-implementation",
   "metadata": {},
   "source": [
    "### 2. Itération sur la surdensité d'effondrement $\\delta_{eff}$\n"
   ]
  },
  {
   "cell_type": "code",
   "execution_count": 33,
   "id": "negative-illness",
   "metadata": {},
   "outputs": [
    {
     "ename": "NameError",
     "evalue": "name 'surd_mini' is not defined",
     "output_type": "error",
     "traceback": [
      "\u001b[1;31m---------------------------------------------------------------------------\u001b[0m",
      "\u001b[1;31mNameError\u001b[0m                                 Traceback (most recent call last)",
      "\u001b[1;32m<ipython-input-33-626f2cb6917c>\u001b[0m in \u001b[0;36m<module>\u001b[1;34m\u001b[0m\n\u001b[0;32m      3\u001b[0m \u001b[0msurd_eff\u001b[0m \u001b[1;33m=\u001b[0m \u001b[0mnp\u001b[0m\u001b[1;33m.\u001b[0m\u001b[0mlinspace\u001b[0m\u001b[1;33m(\u001b[0m\u001b[1;36m1e3\u001b[0m\u001b[1;33m,\u001b[0m \u001b[1;36m1e6\u001b[0m\u001b[1;33m,\u001b[0m \u001b[1;36m1000\u001b[0m\u001b[1;33m)\u001b[0m\u001b[1;33m\u001b[0m\u001b[1;33m\u001b[0m\u001b[0m\n\u001b[0;32m      4\u001b[0m \u001b[1;32mfor\u001b[0m \u001b[0mdelta_eff\u001b[0m \u001b[1;32min\u001b[0m \u001b[1;33m(\u001b[0m\u001b[0msurd_eff\u001b[0m\u001b[1;33m)\u001b[0m\u001b[1;33m:\u001b[0m\u001b[1;33m\u001b[0m\u001b[1;33m\u001b[0m\u001b[0m\n\u001b[1;32m----> 5\u001b[1;33m     \u001b[0mz\u001b[0m\u001b[1;33m,\u001b[0m \u001b[0meff\u001b[0m \u001b[1;33m=\u001b[0m \u001b[0mrk4\u001b[0m\u001b[1;33m(\u001b[0m\u001b[1;36m4\u001b[0m \u001b[1;33m*\u001b[0m \u001b[0msurd_mini\u001b[0m\u001b[1;33m,\u001b[0m \u001b[0mdelta_eff\u001b[0m\u001b[1;33m)\u001b[0m\u001b[1;33m\u001b[0m\u001b[1;33m\u001b[0m\u001b[0m\n\u001b[0m\u001b[0;32m      6\u001b[0m     \u001b[0mtemps_eff\u001b[0m\u001b[1;33m.\u001b[0m\u001b[0mwrite\u001b[0m\u001b[1;33m(\u001b[0m\u001b[1;34m\"{}\\n\"\u001b[0m\u001b[1;33m.\u001b[0m\u001b[0mformat\u001b[0m\u001b[1;33m(\u001b[0m\u001b[0mstr\u001b[0m\u001b[1;33m(\u001b[0m\u001b[0meff\u001b[0m\u001b[1;33m)\u001b[0m\u001b[1;33m)\u001b[0m\u001b[1;33m)\u001b[0m\u001b[1;33m\u001b[0m\u001b[1;33m\u001b[0m\u001b[0m\n\u001b[0;32m      7\u001b[0m     \u001b[0msurdens_eff\u001b[0m\u001b[1;33m.\u001b[0m\u001b[0mwrite\u001b[0m\u001b[1;33m(\u001b[0m\u001b[1;34m\"{}\\n\"\u001b[0m\u001b[1;33m.\u001b[0m\u001b[0mformat\u001b[0m\u001b[1;33m(\u001b[0m\u001b[0mstr\u001b[0m\u001b[1;33m(\u001b[0m\u001b[0mdelta_eff\u001b[0m\u001b[1;33m)\u001b[0m\u001b[1;33m)\u001b[0m\u001b[1;33m)\u001b[0m\u001b[1;33m\u001b[0m\u001b[1;33m\u001b[0m\u001b[0m\n",
      "\u001b[1;31mNameError\u001b[0m: name 'surd_mini' is not defined"
     ]
    }
   ],
   "source": [
    "temps_eff = open(\"temps_deltaeff.txt\", \"w\")\n",
    "surdens_eff = open(\"Delta_eff.txt\", \"w\")\n",
    "surd_eff = np.linspace(1e3, 1e6, 1000)\n",
    "for delta_eff in (surd_eff):\n",
    "    z, eff = rk4(4 * surd_mini, delta_eff)\n",
    "    temps_eff.write(\"{}\\n\".format(str(eff)))\n",
    "    surdens_eff.write(\"{}\\n\".format(str(delta_eff)))\n",
    "temps_eff.close()\n",
    "surdens_eff.close()"
   ]
  },
  {
   "cell_type": "markdown",
   "id": "boxed-discount",
   "metadata": {},
   "source": [
    "### 3. Surdensité initiale telle que $t_{eff}$ égal l'âge de l'univers"
   ]
  },
  {
   "cell_type": "code",
   "execution_count": 34,
   "id": "alone-lawrence",
   "metadata": {},
   "outputs": [
    {
     "ename": "NameError",
     "evalue": "name 'time' is not defined",
     "output_type": "error",
     "traceback": [
      "\u001b[1;31m---------------------------------------------------------------------------\u001b[0m",
      "\u001b[1;31mNameError\u001b[0m                                 Traceback (most recent call last)",
      "\u001b[1;32m<ipython-input-34-99bb2c972b45>\u001b[0m in \u001b[0;36m<module>\u001b[1;34m\u001b[0m\n\u001b[0;32m     24\u001b[0m \u001b[1;33m\u001b[0m\u001b[0m\n\u001b[0;32m     25\u001b[0m \u001b[1;33m\u001b[0m\u001b[0m\n\u001b[1;32m---> 26\u001b[1;33m \u001b[0msur_init\u001b[0m \u001b[1;33m=\u001b[0m \u001b[0mcond_init\u001b[0m\u001b[1;33m(\u001b[0m\u001b[1;36m1e-4\u001b[0m\u001b[1;33m,\u001b[0m \u001b[1;36m1e-2\u001b[0m\u001b[1;33m,\u001b[0m \u001b[1;36m1e-7\u001b[0m\u001b[1;33m,\u001b[0m \u001b[1;36m1e4\u001b[0m\u001b[1;33m,\u001b[0m \u001b[0mt_eff\u001b[0m\u001b[1;33m)\u001b[0m\u001b[1;33m\u001b[0m\u001b[1;33m\u001b[0m\u001b[0m\n\u001b[0m\u001b[0;32m     27\u001b[0m \u001b[0mprint\u001b[0m\u001b[1;33m(\u001b[0m\u001b[1;34m\"Surdensité initiale:\"\u001b[0m\u001b[1;33m,\u001b[0m \u001b[0msur_init\u001b[0m\u001b[1;33m)\u001b[0m\u001b[1;33m\u001b[0m\u001b[1;33m\u001b[0m\u001b[0m\n",
      "\u001b[1;32m<ipython-input-34-99bb2c972b45>\u001b[0m in \u001b[0;36mcond_init\u001b[1;34m(d_i_min, d_i_max, tolerance, delta_eff, t_eff)\u001b[0m\n\u001b[0;32m      3\u001b[0m \u001b[1;32mdef\u001b[0m \u001b[0mcond_init\u001b[0m\u001b[1;33m(\u001b[0m\u001b[0md_i_min\u001b[0m\u001b[1;33m,\u001b[0m \u001b[0md_i_max\u001b[0m\u001b[1;33m,\u001b[0m \u001b[0mtolerance\u001b[0m\u001b[1;33m,\u001b[0m \u001b[0mdelta_eff\u001b[0m\u001b[1;33m,\u001b[0m \u001b[0mt_eff\u001b[0m\u001b[1;33m)\u001b[0m\u001b[1;33m:\u001b[0m\u001b[1;33m\u001b[0m\u001b[1;33m\u001b[0m\u001b[0m\n\u001b[0;32m      4\u001b[0m     \u001b[1;31m# Chercher le temps d'effondrement pour d_i_min:\u001b[0m\u001b[1;33m\u001b[0m\u001b[1;33m\u001b[0m\u001b[1;33m\u001b[0m\u001b[0m\n\u001b[1;32m----> 5\u001b[1;33m     \u001b[0msol1\u001b[0m\u001b[1;33m,\u001b[0m \u001b[0mtemps_eff_max\u001b[0m \u001b[1;33m=\u001b[0m \u001b[0mrk4\u001b[0m\u001b[1;33m(\u001b[0m\u001b[0md_i_min\u001b[0m\u001b[1;33m,\u001b[0m \u001b[0mdelta_eff\u001b[0m\u001b[1;33m)\u001b[0m\u001b[1;33m\u001b[0m\u001b[1;33m\u001b[0m\u001b[0m\n\u001b[0m\u001b[0;32m      6\u001b[0m     \u001b[1;32mif\u001b[0m \u001b[0mtemps_eff_max\u001b[0m \u001b[1;33m<\u001b[0m \u001b[0mt_eff\u001b[0m\u001b[1;33m:\u001b[0m\u001b[1;33m\u001b[0m\u001b[1;33m\u001b[0m\u001b[0m\n\u001b[0;32m      7\u001b[0m         \u001b[0mprint\u001b[0m\u001b[1;33m(\u001b[0m\u001b[1;34m\"Surdensité minimum trop grande\"\u001b[0m\u001b[1;33m)\u001b[0m\u001b[1;33m\u001b[0m\u001b[1;33m\u001b[0m\u001b[0m\n",
      "\u001b[1;32m<ipython-input-31-591ad3bae3db>\u001b[0m in \u001b[0;36mrk4\u001b[1;34m(delta_i, delta_eff)\u001b[0m\n\u001b[0;32m      1\u001b[0m \u001b[1;32mdef\u001b[0m \u001b[0mrk4\u001b[0m\u001b[1;33m(\u001b[0m\u001b[0mdelta_i\u001b[0m\u001b[1;33m,\u001b[0m \u001b[0mdelta_eff\u001b[0m\u001b[1;33m)\u001b[0m\u001b[1;33m:\u001b[0m\u001b[1;33m\u001b[0m\u001b[1;33m\u001b[0m\u001b[0m\n\u001b[1;32m----> 2\u001b[1;33m     \u001b[0mtps1\u001b[0m \u001b[1;33m=\u001b[0m \u001b[0mtime\u001b[0m\u001b[1;33m.\u001b[0m\u001b[0mtime\u001b[0m\u001b[1;33m(\u001b[0m\u001b[1;33m)\u001b[0m\u001b[1;33m\u001b[0m\u001b[1;33m\u001b[0m\u001b[0m\n\u001b[0m\u001b[0;32m      3\u001b[0m     \u001b[0mpi\u001b[0m \u001b[1;33m=\u001b[0m \u001b[0mdelta_i\u001b[0m \u001b[1;33m*\u001b[0m \u001b[0mH\u001b[0m\u001b[1;33m(\u001b[0m\u001b[0mti\u001b[0m\u001b[1;33m)\u001b[0m\u001b[1;33m\u001b[0m\u001b[1;33m\u001b[0m\u001b[0m\n\u001b[0;32m      4\u001b[0m     \u001b[0mdelta_p\u001b[0m \u001b[1;33m=\u001b[0m \u001b[0mnp\u001b[0m\u001b[1;33m.\u001b[0m\u001b[0mzeros\u001b[0m\u001b[1;33m(\u001b[0m\u001b[1;33m(\u001b[0m\u001b[0mlen\u001b[0m\u001b[1;33m(\u001b[0m\u001b[0mttab\u001b[0m\u001b[1;33m)\u001b[0m\u001b[1;33m,\u001b[0m \u001b[1;36m2\u001b[0m\u001b[1;33m)\u001b[0m\u001b[1;33m)\u001b[0m\u001b[1;33m\u001b[0m\u001b[1;33m\u001b[0m\u001b[0m\n\u001b[0;32m      5\u001b[0m     \u001b[0mdelta_p\u001b[0m\u001b[1;33m[\u001b[0m\u001b[1;36m0\u001b[0m\u001b[1;33m,\u001b[0m \u001b[1;36m0\u001b[0m\u001b[1;33m]\u001b[0m\u001b[1;33m,\u001b[0m \u001b[0mdelta_p\u001b[0m\u001b[1;33m[\u001b[0m\u001b[1;36m0\u001b[0m\u001b[1;33m,\u001b[0m \u001b[1;36m1\u001b[0m\u001b[1;33m]\u001b[0m \u001b[1;33m=\u001b[0m \u001b[0mdelta_i\u001b[0m\u001b[1;33m,\u001b[0m \u001b[0mpi\u001b[0m\u001b[1;33m\u001b[0m\u001b[1;33m\u001b[0m\u001b[0m\n",
      "\u001b[1;31mNameError\u001b[0m: name 'time' is not defined"
     ]
    }
   ],
   "source": [
    "t_eff = 2 / (3 * H0) # L'âge de l'univers\n",
    "\n",
    "def cond_init(d_i_min, d_i_max, tolerance, delta_eff, t_eff):\n",
    "    # Chercher le temps d'effondrement pour d_i_min:\n",
    "    sol1, temps_eff_max = rk4(d_i_min, delta_eff)\n",
    "    if temps_eff_max < t_eff:\n",
    "        print(\"Surdensité minimum trop grande\")\n",
    "    # Chercher le temps d'effondrement pour d_i_min:\n",
    "    sol2, temps_eff_min = rk4(d_i_max, delta_eff)\n",
    "    if t_eff < temps_eff_min:\n",
    "        print(\"Surdensité maximum trop petite\")\n",
    "\n",
    "    inter = abs(d_i_max - d_i_min)\n",
    "    while inter > tolerance:\n",
    "        milieu = (d_i_min + d_i_max) / 2\n",
    "        sol, temps_moy = rk4(milieu, delta_eff)\n",
    "        if temps_moy > t_eff:\n",
    "            d_i_min = milieu\n",
    "        else:\n",
    "            d_i_max = milieu\n",
    "        inter = d_i_max - d_i_min\n",
    "    surd_init = (d_i_max + d_i_min) / 2\n",
    "    return surd_init\n",
    "\n",
    "\n",
    "sur_init = cond_init(1e-4, 1e-2, 1e-7, 1e4, t_eff)\n",
    "print(\"Surdensité initiale:\", sur_init)"
   ]
  },
  {
   "cell_type": "markdown",
   "id": "powered-entrance",
   "metadata": {},
   "source": [
    "### 4. Influence du pas de temps"
   ]
  },
  {
   "cell_type": "code",
   "execution_count": 35,
   "id": "specific-country",
   "metadata": {},
   "outputs": [
    {
     "ename": "NameError",
     "evalue": "name 'surd_mini' is not defined",
     "output_type": "error",
     "traceback": [
      "\u001b[1;31m---------------------------------------------------------------------------\u001b[0m",
      "\u001b[1;31mNameError\u001b[0m                                 Traceback (most recent call last)",
      "\u001b[1;32m<ipython-input-35-951e8bff6609>\u001b[0m in \u001b[0;36m<module>\u001b[1;34m\u001b[0m\n\u001b[0;32m      4\u001b[0m     \u001b[0mtemps\u001b[0m \u001b[1;33m=\u001b[0m \u001b[0mnp\u001b[0m\u001b[1;33m.\u001b[0m\u001b[0mlinspace\u001b[0m\u001b[1;33m(\u001b[0m\u001b[0mti\u001b[0m\u001b[1;33m,\u001b[0m \u001b[0mtf\u001b[0m\u001b[1;33m,\u001b[0m \u001b[0mround\u001b[0m\u001b[1;33m(\u001b[0m\u001b[0mN\u001b[0m\u001b[1;33m)\u001b[0m\u001b[1;33m)\u001b[0m\u001b[1;33m\u001b[0m\u001b[1;33m\u001b[0m\u001b[0m\n\u001b[0;32m      5\u001b[0m     \u001b[0mdt1\u001b[0m \u001b[1;33m=\u001b[0m \u001b[1;33m(\u001b[0m\u001b[0mtf\u001b[0m \u001b[1;33m-\u001b[0m \u001b[0mti\u001b[0m\u001b[1;33m)\u001b[0m \u001b[1;33m/\u001b[0m \u001b[0mN\u001b[0m\u001b[1;33m\u001b[0m\u001b[1;33m\u001b[0m\u001b[0m\n\u001b[1;32m----> 6\u001b[1;33m     \u001b[0mz\u001b[0m\u001b[1;33m,\u001b[0m \u001b[0meff\u001b[0m \u001b[1;33m=\u001b[0m \u001b[0mrk4\u001b[0m\u001b[1;33m(\u001b[0m\u001b[1;36m4\u001b[0m \u001b[1;33m*\u001b[0m \u001b[0msurd_mini\u001b[0m\u001b[1;33m,\u001b[0m \u001b[1;36m3\u001b[0m \u001b[1;33m*\u001b[0m \u001b[1;36m1e4\u001b[0m\u001b[1;33m)\u001b[0m\u001b[1;33m\u001b[0m\u001b[1;33m\u001b[0m\u001b[0m\n\u001b[0m\u001b[0;32m      7\u001b[0m     \u001b[0mtemps_fctN\u001b[0m\u001b[1;33m.\u001b[0m\u001b[0mwrite\u001b[0m\u001b[1;33m(\u001b[0m\u001b[1;34m\"{}\\n\"\u001b[0m\u001b[1;33m.\u001b[0m\u001b[0mformat\u001b[0m\u001b[1;33m(\u001b[0m\u001b[0mstr\u001b[0m\u001b[1;33m(\u001b[0m\u001b[0meff\u001b[0m\u001b[1;33m)\u001b[0m\u001b[1;33m)\u001b[0m\u001b[1;33m)\u001b[0m\u001b[1;33m\u001b[0m\u001b[1;33m\u001b[0m\u001b[0m\n\u001b[0;32m      8\u001b[0m     \u001b[0mpas_temps\u001b[0m\u001b[1;33m.\u001b[0m\u001b[0mwrite\u001b[0m\u001b[1;33m(\u001b[0m\u001b[1;34m\"{}\\n\"\u001b[0m\u001b[1;33m.\u001b[0m\u001b[0mformat\u001b[0m\u001b[1;33m(\u001b[0m\u001b[0mstr\u001b[0m\u001b[1;33m(\u001b[0m\u001b[0mdt1\u001b[0m\u001b[1;33m)\u001b[0m\u001b[1;33m)\u001b[0m\u001b[1;33m)\u001b[0m\u001b[1;33m\u001b[0m\u001b[1;33m\u001b[0m\u001b[0m\n",
      "\u001b[1;31mNameError\u001b[0m: name 'surd_mini' is not defined"
     ]
    }
   ],
   "source": [
    "temps_fctN = open(\"temps_fctN.txt\", \"w\")\n",
    "pas_temps = open(\"pas_temps.txt\", \"w\")\n",
    "for N in range(5000, 10000):\n",
    "    temps = np.linspace(ti, tf, round(N))\n",
    "    dt1 = (tf - ti) / N\n",
    "    z, eff = rk4(4 * surd_mini, 3 * 1e4)\n",
    "    temps_fctN.write(\"{}\\n\".format(str(eff)))\n",
    "    pas_temps.write(\"{}\\n\".format(str(dt1)))\n",
    "temps_fctN.close()\n",
    "pas_temps.close() "
   ]
  },
  {
   "cell_type": "markdown",
   "id": "appreciated-postcard",
   "metadata": {},
   "source": [
    "## 5. Surdensité viriel"
   ]
  },
  {
   "cell_type": "code",
   "execution_count": 36,
   "id": "fresh-taylor",
   "metadata": {},
   "outputs": [
    {
     "ename": "NameError",
     "evalue": "name 'surd_mini' is not defined",
     "output_type": "error",
     "traceback": [
      "\u001b[1;31m---------------------------------------------------------------------------\u001b[0m",
      "\u001b[1;31mNameError\u001b[0m                                 Traceback (most recent call last)",
      "\u001b[1;32m<ipython-input-36-53dbec78f1ab>\u001b[0m in \u001b[0;36m<module>\u001b[1;34m\u001b[0m\n\u001b[1;32m----> 1\u001b[1;33m \u001b[0mx\u001b[0m\u001b[1;33m,\u001b[0m \u001b[0mteff\u001b[0m \u001b[1;33m=\u001b[0m \u001b[0mrk4\u001b[0m\u001b[1;33m(\u001b[0m\u001b[1;36m4\u001b[0m \u001b[1;33m*\u001b[0m \u001b[0msurd_mini\u001b[0m\u001b[1;33m,\u001b[0m \u001b[1;36m3\u001b[0m \u001b[1;33m*\u001b[0m \u001b[1;36m1e4\u001b[0m\u001b[1;33m)\u001b[0m\u001b[1;33m\u001b[0m\u001b[1;33m\u001b[0m\u001b[0m\n\u001b[0m\u001b[0;32m      2\u001b[0m \u001b[0mMasse\u001b[0m \u001b[1;33m=\u001b[0m \u001b[1;36m1e16\u001b[0m  \u001b[1;31m# N'influe pas sur le résultat final de la surdensité\u001b[0m\u001b[1;33m\u001b[0m\u001b[1;33m\u001b[0m\u001b[0m\n\u001b[0;32m      3\u001b[0m \u001b[0mdelta\u001b[0m \u001b[1;33m=\u001b[0m \u001b[0mx\u001b[0m\u001b[1;33m[\u001b[0m\u001b[1;33m:\u001b[0m\u001b[1;33m,\u001b[0m \u001b[1;36m0\u001b[0m\u001b[1;33m]\u001b[0m\u001b[1;33m\u001b[0m\u001b[1;33m\u001b[0m\u001b[0m\n\u001b[0;32m      4\u001b[0m \u001b[0mdv\u001b[0m \u001b[1;33m=\u001b[0m \u001b[0mx\u001b[0m\u001b[1;33m[\u001b[0m\u001b[1;33m:\u001b[0m\u001b[1;33m,\u001b[0m \u001b[1;36m1\u001b[0m\u001b[1;33m]\u001b[0m\u001b[1;33m\u001b[0m\u001b[1;33m\u001b[0m\u001b[0m\n",
      "\u001b[1;31mNameError\u001b[0m: name 'surd_mini' is not defined"
     ]
    }
   ],
   "source": [
    "x, teff = rk4(4 * surd_mini, 3 * 1e4)\n",
    "Masse = 1e16  # N'influe pas sur le résultat final de la surdensité\n",
    "delta = x[:, 0]\n",
    "dv = x[:, 1]"
   ]
  },
  {
   "cell_type": "markdown",
   "id": "electronic-vegetable",
   "metadata": {},
   "source": [
    "### 1. Evolution du rayon en fonction de la surdensité"
   ]
  },
  {
   "cell_type": "code",
   "execution_count": 38,
   "id": "regular-candidate",
   "metadata": {},
   "outputs": [
    {
     "ename": "NameError",
     "evalue": "name 'surd_mini' is not defined",
     "output_type": "error",
     "traceback": [
      "\u001b[1;31m---------------------------------------------------------------------------\u001b[0m",
      "\u001b[1;31mNameError\u001b[0m                                 Traceback (most recent call last)",
      "\u001b[1;32m<ipython-input-38-53dbec78f1ab>\u001b[0m in \u001b[0;36m<module>\u001b[1;34m\u001b[0m\n\u001b[1;32m----> 1\u001b[1;33m \u001b[0mx\u001b[0m\u001b[1;33m,\u001b[0m \u001b[0mteff\u001b[0m \u001b[1;33m=\u001b[0m \u001b[0mrk4\u001b[0m\u001b[1;33m(\u001b[0m\u001b[1;36m4\u001b[0m \u001b[1;33m*\u001b[0m \u001b[0msurd_mini\u001b[0m\u001b[1;33m,\u001b[0m \u001b[1;36m3\u001b[0m \u001b[1;33m*\u001b[0m \u001b[1;36m1e4\u001b[0m\u001b[1;33m)\u001b[0m\u001b[1;33m\u001b[0m\u001b[1;33m\u001b[0m\u001b[0m\n\u001b[0m\u001b[0;32m      2\u001b[0m \u001b[0mMasse\u001b[0m \u001b[1;33m=\u001b[0m \u001b[1;36m1e16\u001b[0m  \u001b[1;31m# N'influe pas sur le résultat final de la surdensité\u001b[0m\u001b[1;33m\u001b[0m\u001b[1;33m\u001b[0m\u001b[0m\n\u001b[0;32m      3\u001b[0m \u001b[0mdelta\u001b[0m \u001b[1;33m=\u001b[0m \u001b[0mx\u001b[0m\u001b[1;33m[\u001b[0m\u001b[1;33m:\u001b[0m\u001b[1;33m,\u001b[0m \u001b[1;36m0\u001b[0m\u001b[1;33m]\u001b[0m\u001b[1;33m\u001b[0m\u001b[1;33m\u001b[0m\u001b[0m\n\u001b[0;32m      4\u001b[0m \u001b[0mdv\u001b[0m \u001b[1;33m=\u001b[0m \u001b[0mx\u001b[0m\u001b[1;33m[\u001b[0m\u001b[1;33m:\u001b[0m\u001b[1;33m,\u001b[0m \u001b[1;36m1\u001b[0m\u001b[1;33m]\u001b[0m\u001b[1;33m\u001b[0m\u001b[1;33m\u001b[0m\u001b[0m\n",
      "\u001b[1;31mNameError\u001b[0m: name 'surd_mini' is not defined"
     ]
    }
   ],
   "source": [
    "x, teff = rk4(4 * surd_mini, 3 * 1e4)\n",
    "Masse = 1e16  # N'influe pas sur le résultat final de la surdensité\n",
    "delta = x[:, 0]\n",
    "dv = x[:, 1]"
   ]
  },
  {
   "cell_type": "markdown",
   "id": "senior-scout",
   "metadata": {},
   "source": [
    "### 2. Rayon viriel "
   ]
  },
  {
   "cell_type": "markdown",
   "id": "cutting-turkey",
   "metadata": {},
   "source": [
    "#### Méthode 1 $\\rightarrow$ $R_{vir} = R_{max}/2$ "
   ]
  },
  {
   "cell_type": "code",
   "execution_count": 39,
   "id": "coupled-ukraine",
   "metadata": {},
   "outputs": [
    {
     "ename": "NameError",
     "evalue": "name 'Masse' is not defined",
     "output_type": "error",
     "traceback": [
      "\u001b[1;31m---------------------------------------------------------------------------\u001b[0m",
      "\u001b[1;31mNameError\u001b[0m                                 Traceback (most recent call last)",
      "\u001b[1;32m<ipython-input-39-96d6b473f137>\u001b[0m in \u001b[0;36m<module>\u001b[1;34m\u001b[0m\n\u001b[1;32m----> 1\u001b[1;33m \u001b[0mR\u001b[0m \u001b[1;33m=\u001b[0m \u001b[1;33m(\u001b[0m\u001b[1;33m(\u001b[0m\u001b[1;36m3\u001b[0m \u001b[1;33m*\u001b[0m \u001b[0mMasse\u001b[0m\u001b[1;33m)\u001b[0m \u001b[1;33m/\u001b[0m \u001b[1;33m(\u001b[0m\u001b[1;36m4\u001b[0m \u001b[1;33m*\u001b[0m \u001b[0mnp\u001b[0m\u001b[1;33m.\u001b[0m\u001b[0mpi\u001b[0m \u001b[1;33m*\u001b[0m \u001b[0mrho_m\u001b[0m\u001b[1;33m(\u001b[0m\u001b[0mttab\u001b[0m\u001b[1;33m)\u001b[0m \u001b[1;33m*\u001b[0m \u001b[1;33m(\u001b[0m\u001b[1;36m1\u001b[0m \u001b[1;33m+\u001b[0m \u001b[0mdelta\u001b[0m\u001b[1;33m)\u001b[0m\u001b[1;33m)\u001b[0m\u001b[1;33m)\u001b[0m \u001b[1;33m**\u001b[0m \u001b[1;33m(\u001b[0m\u001b[1;36m1\u001b[0m \u001b[1;33m/\u001b[0m \u001b[1;36m3\u001b[0m\u001b[1;33m)\u001b[0m\u001b[1;33m\u001b[0m\u001b[1;33m\u001b[0m\u001b[0m\n\u001b[0m\u001b[0;32m      2\u001b[0m \u001b[0mRmax\u001b[0m\u001b[1;33m,\u001b[0m \u001b[0mimax\u001b[0m \u001b[1;33m=\u001b[0m \u001b[0mR\u001b[0m\u001b[1;33m.\u001b[0m\u001b[0mmax\u001b[0m\u001b[1;33m(\u001b[0m\u001b[1;33m)\u001b[0m\u001b[1;33m,\u001b[0m \u001b[0mR\u001b[0m\u001b[1;33m.\u001b[0m\u001b[0margmax\u001b[0m\u001b[1;33m(\u001b[0m\u001b[1;33m)\u001b[0m\u001b[1;33m\u001b[0m\u001b[1;33m\u001b[0m\u001b[0m\n\u001b[0;32m      3\u001b[0m \u001b[0mtmax\u001b[0m \u001b[1;33m=\u001b[0m \u001b[0mttab\u001b[0m\u001b[1;33m[\u001b[0m\u001b[0mimax\u001b[0m\u001b[1;33m]\u001b[0m\u001b[1;33m\u001b[0m\u001b[1;33m\u001b[0m\u001b[0m\n\u001b[0;32m      4\u001b[0m \u001b[0mRvir\u001b[0m \u001b[1;33m=\u001b[0m \u001b[0mRmax\u001b[0m \u001b[1;33m*\u001b[0m \u001b[1;36m0.5\u001b[0m\u001b[1;33m\u001b[0m\u001b[1;33m\u001b[0m\u001b[0m\n",
      "\u001b[1;31mNameError\u001b[0m: name 'Masse' is not defined"
     ]
    }
   ],
   "source": [
    "R = ((3 * Masse) / (4 * np.pi * rho_m(ttab) * (1 + delta))) ** (1 / 3)\n",
    "Rmax, imax = R.max(), R.argmax()\n",
    "tmax = ttab[imax]\n",
    "Rvir = Rmax * 0.5"
   ]
  },
  {
   "cell_type": "markdown",
   "id": "owned-animation",
   "metadata": {},
   "source": [
    "#### Méthode 2 $\\rightarrow$ $2E_c + E_{pp} = 0$"
   ]
  },
  {
   "cell_type": "code",
   "execution_count": 40,
   "id": "italian-sunset",
   "metadata": {},
   "outputs": [],
   "source": [
    "def vitesse(R_final):\n",
    "    R = R_final\n",
    "    v = np.zeros(len(R))\n",
    "    v_test = np.zeros(len(R))\n",
    "    for i in range(0, len(R)):\n",
    "        t = ttab[i]\n",
    "        v[i] = H(t) * R[i] * (1 - (dv[i] * R[i] ** 3) / (9 * Masse * G * t))\n",
    "        v_test[i] = H(t) * R[i] - (R[i] * dv[i]) / (3 * (1 + delta[i]))\n",
    "    return (v, v_test)\n",
    "\n",
    "\n",
    "def Vitesse_alter(R):  # VITESSE CALCULEE DIRECTEMENT A PARTIR DE R ET dt\n",
    "    V = np.zeros(len(R))\n",
    "    for i in range(0, len(R) - 1):\n",
    "        dR = R[i + 1] - R[i]\n",
    "        V[i] = dR / dt\n",
    "    return V\n",
    "\n",
    "# Formule pour l'énergie cinétique\n",
    "def Ecin(Rcourt, vitesse):\n",
    "    R = Rcourt\n",
    "    Ecin = np.zeros(len(R))\n",
    "    for i in range(0, len(R)):\n",
    "        v = vitesse[i]\n",
    "        Ecin[i] = (3 * Masse * v ** 2) / 10\n",
    "    return Ecin"
   ]
  },
  {
   "cell_type": "markdown",
   "id": "decimal-effectiveness",
   "metadata": {},
   "source": [
    "### 3. Surdensité viriel finale"
   ]
  },
  {
   "cell_type": "code",
   "execution_count": 41,
   "id": "mediterranean-october",
   "metadata": {},
   "outputs": [
    {
     "ename": "NameError",
     "evalue": "name 't_viriel' is not defined",
     "output_type": "error",
     "traceback": [
      "\u001b[1;31m---------------------------------------------------------------------------\u001b[0m",
      "\u001b[1;31mNameError\u001b[0m                                 Traceback (most recent call last)",
      "\u001b[1;32m<ipython-input-41-f0dc9d9ad428>\u001b[0m in \u001b[0;36m<module>\u001b[1;34m\u001b[0m\n\u001b[0;32m      1\u001b[0m \u001b[1;31m# On ajuste les valeurs de la surdensité une fois R_vir atteint\u001b[0m\u001b[1;33m\u001b[0m\u001b[1;33m\u001b[0m\u001b[1;33m\u001b[0m\u001b[0m\n\u001b[0;32m      2\u001b[0m \u001b[1;33m\u001b[0m\u001b[0m\n\u001b[1;32m----> 3\u001b[1;33m \u001b[0mtvir1\u001b[0m \u001b[1;33m=\u001b[0m \u001b[0mt_viriel\u001b[0m\u001b[1;33m(\u001b[0m\u001b[1;36m377\u001b[0m\u001b[1;33m,\u001b[0m \u001b[1;36m378\u001b[0m\u001b[1;33m,\u001b[0m \u001b[1;36m1e-6\u001b[0m\u001b[1;33m,\u001b[0m \u001b[0mR\u001b[0m\u001b[1;33m,\u001b[0m \u001b[0mRvir\u001b[0m\u001b[1;33m)\u001b[0m\u001b[1;33m\u001b[0m\u001b[1;33m\u001b[0m\u001b[0m\n\u001b[0m\u001b[0;32m      4\u001b[0m \u001b[0mrho_vir\u001b[0m \u001b[1;33m=\u001b[0m \u001b[1;33m(\u001b[0m\u001b[1;36m3\u001b[0m \u001b[1;33m*\u001b[0m \u001b[0mMasse\u001b[0m\u001b[1;33m)\u001b[0m \u001b[1;33m/\u001b[0m \u001b[1;33m(\u001b[0m\u001b[1;36m4\u001b[0m \u001b[1;33m*\u001b[0m \u001b[0mnp\u001b[0m\u001b[1;33m.\u001b[0m\u001b[0mpi\u001b[0m \u001b[1;33m*\u001b[0m \u001b[0mRvir\u001b[0m \u001b[1;33m**\u001b[0m \u001b[1;36m3\u001b[0m\u001b[1;33m)\u001b[0m  \u001b[1;31m# Densité volumique de virialisation\u001b[0m\u001b[1;33m\u001b[0m\u001b[1;33m\u001b[0m\u001b[0m\n\u001b[0;32m      5\u001b[0m \u001b[0mdelta_vir\u001b[0m \u001b[1;33m=\u001b[0m \u001b[0mrho_vir\u001b[0m \u001b[1;33m/\u001b[0m \u001b[0mrho_m\u001b[0m\u001b[1;33m(\u001b[0m\u001b[0mtvir1\u001b[0m\u001b[1;33m)\u001b[0m \u001b[1;33m-\u001b[0m \u001b[1;36m1\u001b[0m  \u001b[1;31m# Surdensité viriel\u001b[0m\u001b[1;33m\u001b[0m\u001b[1;33m\u001b[0m\u001b[0m\n",
      "\u001b[1;31mNameError\u001b[0m: name 't_viriel' is not defined"
     ]
    }
   ],
   "source": [
    "# On ajuste les valeurs de la surdensité une fois R_vir atteint\n",
    "\n",
    "tvir1 = t_viriel(377, 378, 1e-6, R, Rvir)\n",
    "rho_vir = (3 * Masse) / (4 * np.pi * Rvir ** 3)  # Densité volumique de virialisation\n",
    "delta_vir = rho_vir / rho_m(tvir1) - 1  # Surdensité viriel\n",
    "delta[delta > delta_vir] = delta_vir  # Obsolète\n",
    "indice = delta.argmax()\n",
    "print(\"Indice de la virialisation :\", indice)\n",
    "print(\"Temps viriel calculé avec la fonction\", tvir1)\n",
    "\n",
    "# Rayon et surdensité finaux\n",
    "delta_final = surdensité(indice)\n",
    "R_final = ((3 * Masse) / (4 * np.pi * rho_m(ttab) * (1 + delta_final))) ** (1 / 3)\n",
    "\n",
    "# Calcul des vitesses via méthodes numériques et formule analytique\n",
    "v, vtest = vitesse(R_final)\n",
    "Vitesse2 = Vitesse_alter(R_final)\n",
    "\n",
    "# Calcul des énergies - On regarde où est-ce qu'elles se croisent pour déterminer le rayon viriel (méthode 2)\n",
    "Epp = -(3 * G * Masse ** 2) / (5 * R_final)\n",
    "Ec = Ecin(R_final, v)\n",
    "Ectest = Ecin(R_final, Vitesse2)\n",
    "Epvir = (3 * G * Masse ** 2) / (5 * Rvir)\n",
    "\n",
    "print(\"Surdensité viriel finale :\", 1 + delta_vir * (a(teff) / a(tvir1)) ** 3)\n",
    "print(delta_final[410] + 1)"
   ]
  },
  {
   "cell_type": "markdown",
   "id": "norman-decimal",
   "metadata": {},
   "source": [
    "## 6. Visualisation 3D"
   ]
  },
  {
   "cell_type": "markdown",
   "id": "unauthorized-supplier",
   "metadata": {},
   "source": [
    "Ici il serait intéréssant de refaire l'animation mais avec une intéraction avec un slider"
   ]
  },
  {
   "cell_type": "code",
   "execution_count": 42,
   "id": "cordless-above",
   "metadata": {},
   "outputs": [
    {
     "ename": "NameError",
     "evalue": "name 'ax' is not defined",
     "output_type": "error",
     "traceback": [
      "\u001b[1;31m---------------------------------------------------------------------------\u001b[0m",
      "\u001b[1;31mNameError\u001b[0m                                 Traceback (most recent call last)",
      "\u001b[1;32m<ipython-input-42-cd52fcc8f58f>\u001b[0m in \u001b[0;36m<module>\u001b[1;34m\u001b[0m\n\u001b[0;32m     22\u001b[0m \u001b[1;33m\u001b[0m\u001b[0m\n\u001b[0;32m     23\u001b[0m \u001b[1;31m# Délimitation des axes\u001b[0m\u001b[1;33m\u001b[0m\u001b[1;33m\u001b[0m\u001b[1;33m\u001b[0m\u001b[0m\n\u001b[1;32m---> 24\u001b[1;33m \u001b[0max\u001b[0m\u001b[1;33m.\u001b[0m\u001b[0mset_xlim\u001b[0m\u001b[1;33m(\u001b[0m\u001b[1;33m-\u001b[0m \u001b[0mR_final\u001b[0m\u001b[1;33m[\u001b[0m\u001b[1;33m-\u001b[0m\u001b[1;36m1\u001b[0m\u001b[1;33m]\u001b[0m \u001b[1;33m*\u001b[0m \u001b[1;36m5\u001b[0m\u001b[1;33m,\u001b[0m \u001b[0mR_final\u001b[0m\u001b[1;33m[\u001b[0m\u001b[1;33m-\u001b[0m\u001b[1;36m1\u001b[0m\u001b[1;33m]\u001b[0m \u001b[1;33m*\u001b[0m \u001b[1;36m5\u001b[0m\u001b[1;33m)\u001b[0m\u001b[1;33m\u001b[0m\u001b[1;33m\u001b[0m\u001b[0m\n\u001b[0m\u001b[0;32m     25\u001b[0m \u001b[0max\u001b[0m\u001b[1;33m.\u001b[0m\u001b[0mset_ylim\u001b[0m\u001b[1;33m(\u001b[0m\u001b[1;33m-\u001b[0m \u001b[0mR_final\u001b[0m\u001b[1;33m[\u001b[0m\u001b[1;33m-\u001b[0m\u001b[1;36m1\u001b[0m\u001b[1;33m]\u001b[0m \u001b[1;33m*\u001b[0m \u001b[1;36m5\u001b[0m\u001b[1;33m,\u001b[0m \u001b[0mR_final\u001b[0m\u001b[1;33m[\u001b[0m\u001b[1;33m-\u001b[0m\u001b[1;36m1\u001b[0m\u001b[1;33m]\u001b[0m \u001b[1;33m*\u001b[0m \u001b[1;36m5\u001b[0m\u001b[1;33m)\u001b[0m\u001b[1;33m\u001b[0m\u001b[1;33m\u001b[0m\u001b[0m\n\u001b[0;32m     26\u001b[0m \u001b[0max\u001b[0m\u001b[1;33m.\u001b[0m\u001b[0mset_zlim\u001b[0m\u001b[1;33m(\u001b[0m\u001b[1;33m-\u001b[0m \u001b[0mR_final\u001b[0m\u001b[1;33m[\u001b[0m\u001b[1;33m-\u001b[0m\u001b[1;36m1\u001b[0m\u001b[1;33m]\u001b[0m \u001b[1;33m*\u001b[0m \u001b[1;36m5\u001b[0m\u001b[1;33m,\u001b[0m \u001b[0mR_final\u001b[0m\u001b[1;33m[\u001b[0m\u001b[1;33m-\u001b[0m\u001b[1;36m1\u001b[0m\u001b[1;33m]\u001b[0m \u001b[1;33m*\u001b[0m \u001b[1;36m5\u001b[0m\u001b[1;33m)\u001b[0m\u001b[1;33m\u001b[0m\u001b[1;33m\u001b[0m\u001b[0m\n",
      "\u001b[1;31mNameError\u001b[0m: name 'ax' is not defined"
     ]
    }
   ],
   "source": [
    "def update(num, x, y, z, plot):\n",
    "    plot[0].remove()\n",
    "    r = R_final[num]\n",
    "    x_ = x * r\n",
    "    y_ = y * r\n",
    "    z_ = z * r\n",
    "    title = 'Rayon au temps t = ' + str(round(ttab1[num], 2)) + \"  milliards d'années\"\n",
    "    ax.set_title(title, fontsize=15)\n",
    "    plot[0] = ax.plot_surface(x_, y_, z_, cmap=\"hot\")\n",
    "    if ttab[num] > tvir1:\n",
    "        fake2Dline = matplotlib.lines.Line2D([0], [0], linestyle=\"none\", c='orange', marker='o')\n",
    "        plot[0] = ax.plot_surface(x_, y_, z_, cmap=\"hot\")\n",
    "        ax.legend([fake2Dline], [\"Rayon de virialisation atteint\"], fontsize=12, numpoints=1)\n",
    "# Coordonnées de la sphère\n",
    "\n",
    "u = np.linspace(0, 2 * np.pi, 100)\n",
    "v = np.linspace(0, np.pi, 100)\n",
    "\n",
    "x = 2 * np.outer(np.cos(u), np.sin(v))\n",
    "y = 2 * np.outer(np.sin(u), np.sin(v))\n",
    "z = 2 * np.outer(np.ones(np.size(u)), np.cos(v))\n",
    "\n",
    "# Délimitation des axes\n",
    "ax.set_xlim(- R_final[-1] * 5, R_final[-1] * 5)\n",
    "ax.set_ylim(- R_final[-1] * 5, R_final[-1] * 5)\n",
    "ax.set_zlim(- R_final[-1] * 5, R_final[-1] * 5)\n",
    "ax.set_axis_off()\n",
    "plot = [ax.plot_surface(x, y, z)]\n",
    "ax.set_facecolor('k')"
   ]
  }
 ],
 "metadata": {
  "kernelspec": {
   "display_name": "Python 3",
   "language": "python",
   "name": "python3"
  },
  "language_info": {
   "codemirror_mode": {
    "name": "ipython",
    "version": 3
   },
   "file_extension": ".py",
   "mimetype": "text/x-python",
   "name": "python",
   "nbconvert_exporter": "python",
   "pygments_lexer": "ipython3",
   "version": "3.9.2"
  }
 },
 "nbformat": 4,
 "nbformat_minor": 5
}
