{
 "cells": [
  {
   "cell_type": "markdown",
   "id": "cardiovascular-stanley",
   "metadata": {},
   "source": [
    "# Effondrement à symétrie sphérique en cosmologie #"
   ]
  },
  {
   "cell_type": "markdown",
   "id": "accurate-topic",
   "metadata": {},
   "source": [
    "## 1. Introduction ##"
   ]
  },
  {
   "cell_type": "markdown",
   "id": "armed-behavior",
   "metadata": {},
   "source": [
    "Le but de ce projet est de calculer le temps d'effondrement d'une surdensité primordiale dans un univers en expansion. L'évolution de cette surdensité est donnée par l'équation différentielle ci-dessous :\n",
    "\\begin{equation}\n",
    "\t\\label{e1}\n",
    "\t\\ddot{\\delta} + 2H(t)\\dot{\\delta} = 4\\pi G\\rho_{m}(t)\\delta (1 + \\delta) + \\dfrac{4}{3} \\dfrac{{\\dot{\\delta}}^2}{1 + \\delta}\n",
    "\\end{equation}  \n",
    "  \n",
    "où $H(t) = \\frac{2}{3t}$ est la constante de Hubble et $\\rho_{m}(t) = \\Omega_{m} \\rho_{c} /a(t) ^{3}$ la densité moyenne de l'univers. $\\Omega_{m}$ est la densité actuelle de matière dans l'univers, normalisée par la densité critique $\\rho_{c}$  et a(t) le facteur d'expansion de l'univers.\n",
    "On considerera un univers dit de Einstein - de Sitter, de densité $\\Omega_m = 1$. Dans ce projet, servant de résumé et de remise à niveau du projet initial, nous couvrirons :\n",
    "   - La résolution de l'équation différentielle en régime linéaire \n",
    "   - La résolution de l'équation différentielle en régime non-linéaire\n",
    "   - L'itération sur la surdensité initiale telle que le temps d'effondement soit égal à $t_{eff} = \\frac{2}{3H_0}$\n",
    "   - L'influence des différents paramètres choisis (surdensité initiale $\\delta_i$, surdensité d'effondrement $\\delta_{eff}$, le pas de temps ...\n",
    "   - L'effondrement plus *physique*, saturant à la surdensité viriel\n",
    "   - Nous nous intéresserons également à certaines bibliothèques permettant en théorie de réduire le de temps de calcul"
   ]
  },
  {
   "cell_type": "markdown",
   "id": "diagnostic-resistance",
   "metadata": {},
   "source": [
    "**Imports :**"
   ]
  },
  {
   "cell_type": "code",
   "execution_count": 1,
   "id": "anonymous-amazon",
   "metadata": {},
   "outputs": [],
   "source": [
    "import numpy as np\n",
    "from scipy.integrate import odeint\n",
    "import matplotlib.pyplot as plt\n",
    "import csv\n",
    "import pandas as pd"
   ]
  },
  {
   "cell_type": "markdown",
   "id": "dress-procurement",
   "metadata": {},
   "source": [
    "**Déclaration des variables**"
   ]
  },
  {
   "cell_type": "code",
   "execution_count": 2,
   "id": "maritime-costa",
   "metadata": {},
   "outputs": [],
   "source": [
    "Mp = 3.08567758 * 1e22                      # Valeur d'un mégaparsec\n",
    "H0 = 7 * 1e4 / Mp                           # Constante de Hubble Actuelle\n",
    "G = 6.6742 * 1e-11                          # Constante de gravitation\n",
    "rho_crit = (3 * H0 ** 2) / (8 * np.pi * G)  # Densité critique\n",
    "sig = 1                                     # Densité de l'univers\n",
    "milliard_annee = 3600 * 24 * 365 * 1e9      # Un milliard d'années en secondes"
   ]
  },
  {
   "cell_type": "markdown",
   "id": "impossible-console",
   "metadata": {},
   "source": [
    "**Conditions initiales :**    \n",
    "On veut $t_i$ très petit devant $1/H_0$, or $1/H_0 = 4.4e17s$ ( = 13 952 308 472 ans)  \n",
    "On peut donc prendre $t_i$ = 300 000 ans par exemple  \n"
   ]
  },
  {
   "cell_type": "code",
   "execution_count": 3,
   "id": "norman-vegetarian",
   "metadata": {},
   "outputs": [],
   "source": [
    "ti = 300000 * 365 * 24 * 3600\n",
    "tf = 1 / H0"
   ]
  },
  {
   "cell_type": "markdown",
   "id": "artistic-subdivision",
   "metadata": {},
   "source": [
    "**Grille de temps :**"
   ]
  },
  {
   "cell_type": "code",
   "execution_count": 4,
   "id": "animal-petroleum",
   "metadata": {},
   "outputs": [],
   "source": [
    "N = 5000\n",
    "ttab = np.linspace(ti, tf, N)\n",
    "dt = (tf - ti) / N                    # DEFINITION DU PAS DE TEMPS\n",
    "ttab_milliard = ttab / milliard_annee # Grille de temps en miliards d'années"
   ]
  },
  {
   "cell_type": "markdown",
   "id": "vanilla-there",
   "metadata": {},
   "source": [
    "**Constante de Hubble :**"
   ]
  },
  {
   "cell_type": "code",
   "execution_count": 5,
   "id": "covered-aging",
   "metadata": {},
   "outputs": [],
   "source": [
    "def H(t):\n",
    "    return 2 / (3 * t)"
   ]
  },
  {
   "cell_type": "markdown",
   "id": "placed-column",
   "metadata": {},
   "source": [
    "**Facteur d'expansion :**"
   ]
  },
  {
   "cell_type": "code",
   "execution_count": 6,
   "id": "separated-parks",
   "metadata": {},
   "outputs": [],
   "source": [
    "def a(t):\n",
    "    return (1.5 * H0 * t) ** (2 / 3)"
   ]
  },
  {
   "cell_type": "markdown",
   "id": "documentary-ethnic",
   "metadata": {},
   "source": [
    "**Densité moyenne :**"
   ]
  },
  {
   "cell_type": "code",
   "execution_count": 7,
   "id": "limiting-solution",
   "metadata": {},
   "outputs": [],
   "source": [
    "def rho_m(t):\n",
    "    return (sig * rho_crit) / (a(t) ** 3)"
   ]
  },
  {
   "cell_type": "markdown",
   "id": "cardiovascular-stranger",
   "metadata": {},
   "source": [
    "## 2. Solution linéaire ##"
   ]
  },
  {
   "cell_type": "markdown",
   "id": "enhanced-responsibility",
   "metadata": {},
   "source": [
    "- On définit la fonction que l'on veut résoudre. On a ici enlevé les termes non-linéaires. On l'écrit également en forme vectorielle pour la résoudre à l'aide de scipy.integrate.odeint"
   ]
  },
  {
   "cell_type": "code",
   "execution_count": 8,
   "id": "other-joseph",
   "metadata": {},
   "outputs": [],
   "source": [
    "def fonction(delta_et_p, ttab):\n",
    "    return -2 * H(ttab) * delta_et_p[1] + 1.5 * (H(ttab) ** 2) * delta_et_p[0]\n",
    "\n",
    "def equation(delta_et_p, ttab):\n",
    "    return [delta_et_p[1], -2 * H(ttab) * delta_et_p[1] + 1.5 * (H(ttab) ** 2) * delta_et_p[0]]"
   ]
  },
  {
   "cell_type": "markdown",
   "id": "fewer-mixer",
   "metadata": {},
   "source": [
    "### Implémentation de Runge-Kutta "
   ]
  },
  {
   "cell_type": "markdown",
   "id": "wound-gates",
   "metadata": {},
   "source": [
    "**Runge-Kutta 2**"
   ]
  },
  {
   "cell_type": "code",
   "execution_count": 9,
   "id": "presidential-convention",
   "metadata": {},
   "outputs": [],
   "source": [
    "def rk2_lin(delta_i, delta_eff):\n",
    "    pi = delta_i * H(ti)\n",
    "    delta_p = np.zeros((len(ttab), 2))\n",
    "    delta_p[0, 0], delta_p[0, 1] = delta_i, pi\n",
    "    temps_eff = 0\n",
    "    for n in range(1, len(ttab)):\n",
    "        t = ttab[n]\n",
    "        \n",
    "        if (delta_p[n - 1, 0] and delta_p[n - 1, 1]) < delta_eff:\n",
    "            k1 = -2 * H(t) * delta_p[n - 1, 1] + 1.5 * (H(t) ** 2) * delta_p[n - 1, 0]\n",
    "            k2 = fonction([delta_p[n - 1, 0], delta_p[n - 1, 1] + dt * k1], t + dt)\n",
    "            delta_p[n, 1] = delta_p[n - 1, 1] + 0.5 * dt * (k1 + k2)\n",
    "            delta_p[n, 0] = delta_p[n - 1, 0] + delta_p[n - 1, 1] * dt\n",
    "        else:\n",
    "            temps_eff = ttab[n]\n",
    "            \n",
    "    return delta_p, temps_eff"
   ]
  },
  {
   "cell_type": "markdown",
   "id": "serial-egypt",
   "metadata": {},
   "source": [
    "**Runge-Kutta 4**"
   ]
  },
  {
   "cell_type": "code",
   "execution_count": 10,
   "id": "beneficial-banner",
   "metadata": {},
   "outputs": [],
   "source": [
    "def rk4_lin(delta_i, delta_eff):\n",
    "    pi = delta_i * H(ti)\n",
    "    delta_p = np.zeros((len(ttab), 2))\n",
    "    delta_p[0, 0], delta_p[0, 1] = delta_i, pi\n",
    "    \n",
    "    temps_eff = 0\n",
    "    for n in range(1, len(ttab)):\n",
    "        t = ttab[n]\n",
    "        if (delta_p[n - 1, 0] and delta_p[n - 1, 1]) < delta_eff:\n",
    "            k1 = -2 * H(t) * delta_p[n - 1, 1] + 1.5 * (H(t) ** 2) * delta_p[n - 1, 0]\n",
    "            k2 = fonction([delta_p[n - 1, 0], delta_p[n - 1, 1] + (dt * k1) / 2], t + dt / 2)\n",
    "            k3 = fonction([delta_p[n - 1, 0], delta_p[n - 1, 1] + (dt * k2) / 2], t + dt / 2)\n",
    "            k4 = fonction([delta_p[n - 1, 0], delta_p[n - 1, 1] + (dt * k3) / 2], t + dt)\n",
    "            delta_p[n, 1] = delta_p[n - 1, 1] + (dt / 6) * (k1 + 2 * k2 + 2 * k3 + k4)\n",
    "            delta_p[n, 0] = delta_p[n - 1, 0] + delta_p[n - 1, 1] * dt\n",
    "        else:\n",
    "            temps_eff = ttab[n]\n",
    "    \n",
    "    return delta_p, temps_eff"
   ]
  },
  {
   "cell_type": "code",
   "execution_count": 11,
   "id": "neural-pharmaceutical",
   "metadata": {},
   "outputs": [],
   "source": [
    "def rk4_test(delta_i, delta_eff):\n",
    "    \n",
    "    delta_p = np.zeros((len(ttab), 2))\n",
    "    \n",
    "    pi = delta_i * H(ti)\n",
    "    delta_p[0, 0] = delta_i\n",
    "    delta_p[0, 1] = pi    \n",
    "    \n",
    "    n, t, t_final = 1, ttab[1], ttab[-1]\n",
    "\n",
    "    while t < t_final:\n",
    "\n",
    "        k1 = fonction([delta_p[n - 1, 0], delta_p[n - 1, 1]], t)\n",
    "        k2 = fonction([delta_p[n - 1, 0], delta_p[n - 1, 1] + (dt * k1) / 2], t + dt / 2)\n",
    "        k3 = fonction([delta_p[n - 1, 0], delta_p[n - 1, 1] + (dt * k2) / 2], t + dt / 2)\n",
    "        k4 = fonction([delta_p[n - 1, 0], delta_p[n - 1, 1] + (dt * k3) / 2], t + dt)\n",
    "        \n",
    "        delta_p[n, 1] = delta_p[n - 1, 1] + (dt / 6) * (k1 + 2 * k2 + 2 * k3 + k4)\n",
    "        delta_p[n, 0] = delta_p[n - 1, 0] + delta_p[n - 1, 1] * dt\n",
    "        \n",
    "        t = t + dt\n",
    "        n += 1\n",
    "        \n",
    "    delta_p[delta_p[:, 0] == 0, 0] = delta_eff\n",
    "    \n",
    "    return delta_p, t"
   ]
  },
  {
   "cell_type": "markdown",
   "id": "agricultural-lingerie",
   "metadata": {},
   "source": [
    "**Solutions**"
   ]
  },
  {
   "cell_type": "code",
   "execution_count": 12,
   "id": "alternate-responsibility",
   "metadata": {},
   "outputs": [
    {
     "name": "stdout",
     "output_type": "stream",
     "text": [
      "$t_{eff}=$ 0\n",
      "Wall time: 143 ms\n"
     ]
    }
   ],
   "source": [
    "%%time\n",
    "lin_rk2, tlin_rk2 = rk2_lin(1e-3, 1e4)\n",
    "print('$t_{eff}=$', tlin_rk2)"
   ]
  },
  {
   "cell_type": "code",
   "execution_count": 13,
   "id": "sensitive-manchester",
   "metadata": {},
   "outputs": [
    {
     "name": "stdout",
     "output_type": "stream",
     "text": [
      "Temps eff : 0\n",
      "Wall time: 254 ms\n"
     ]
    }
   ],
   "source": [
    "%%time\n",
    "lin_rk4, tlin_rk4 = rk4_lin(1e-3, 1e4)\n",
    "print('Temps eff :', tlin_rk4)"
   ]
  },
  {
   "cell_type": "code",
   "execution_count": 14,
   "id": "cleared-platinum",
   "metadata": {},
   "outputs": [
    {
     "name": "stdout",
     "output_type": "stream",
     "text": [
      "Wall time: 9 ms\n"
     ]
    }
   ],
   "source": [
    "%%time\n",
    "c_i = [1e-3, H(ti) * 1e-3]  # CONDITIONS INITIALES\n",
    "y = odeint(equation, c_i, ttab)"
   ]
  },
  {
   "cell_type": "code",
   "execution_count": 17,
   "id": "bacterial-minneapolis",
   "metadata": {},
   "outputs": [
    {
     "name": "stdout",
     "output_type": "stream",
     "text": [
      "Wall time: 227 ms\n"
     ]
    }
   ],
   "source": [
    "%%time\n",
    "x_test, t_test = rk4_test(1e-3, 1e4)"
   ]
  },
  {
   "cell_type": "markdown",
   "id": "optimum-hampshire",
   "metadata": {},
   "source": [
    "  \n",
    "\n",
    "\n",
    "|                       | **Runge-Kutta 2** | **Runge-Kutta 4** |  **Scipy.integrate.odeint** |\n",
    "|-----------------------|-------------------|-------------------|-----------------------------|\n",
    "| **Solution :**        |Pas d'effondrement | Pas d'effondrement| Pas d'effondrement          |   \n",
    "| **Temps de calcul :** |       42 ms       |       82 ms       |          2 ms               | \n"
   ]
  },
  {
   "cell_type": "markdown",
   "id": "clear-rwanda",
   "metadata": {},
   "source": [
    "**Graphes**"
   ]
  },
  {
   "cell_type": "code",
   "execution_count": 18,
   "id": "hollywood-alloy",
   "metadata": {},
   "outputs": [
    {
     "data": {
      "image/png": "[encoded data removed]",
      "text/plain": [
       "<Figure size 432x288 with 1 Axes>"
      ]
     },
     "metadata": {
      "needs_background": "light"
     },
     "output_type": "display_data"
    }
   ],
   "source": [
    "plt.title(\"Temps d'effondrement \")\n",
    "plt.plot(ttab_milliard, lin_rk2[:, 0], label='Runge-Kutta 2')\n",
    "plt.plot(ttab_milliard, lin_rk4[:, 0], label='Runge-Kutta 4')\n",
    "plt.plot(ttab_milliard, y[:, 0], label='odeint')\n",
    "plt.plot(ttab_milliard, x_test[:, 0], label='RK4 test')\n",
    "plt.xlabel(\"Temps (milliards d'années)\")\n",
    "plt.ylabel(\"Surdensité\")\n",
    "plt.legend()\n",
    "plt.show()"
   ]
  },
  {
   "cell_type": "markdown",
   "id": "destroyed-hygiene",
   "metadata": {},
   "source": [
    "## 3. Solution non-linéaire"
   ]
  },
  {
   "cell_type": "code",
   "execution_count": 19,
   "id": "dying-panic",
   "metadata": {},
   "outputs": [],
   "source": [
    "def fonction_nonlin(delta_et_p, t):\n",
    "    return -2 * H(t) * delta_et_p[1] + 1.5 * (H(t) ** 2) * delta_et_p[0] * (1 + delta_et_p[0]) + (4 / 3) * (\n",
    "            (delta_et_p[1] ** 2) / (1 + delta_et_p[0]))"
   ]
  },
  {
   "cell_type": "markdown",
   "id": "spectacular-switzerland",
   "metadata": {},
   "source": [
    "### Implémentation de Runge-Kutta "
   ]
  },
  {
   "cell_type": "markdown",
   "id": "stuffed-daughter",
   "metadata": {},
   "source": [
    "**Runge-Kutta 2**"
   ]
  },
  {
   "cell_type": "code",
   "execution_count": 20,
   "id": "hidden-indication",
   "metadata": {},
   "outputs": [],
   "source": [
    "def rk2 (delta_i,delta_eff):\n",
    "    pi= delta_i * H(ti)\n",
    "    delta_p=np.zeros((len(ttab),2))\n",
    "    delta_p[0,0],delta_p[0,1]=delta_i,pi\n",
    "    for n in range (1,len(ttab)):\n",
    "        t=ttab[n]\n",
    "        if (delta_p[n - 1, 0] and delta_p[n - 1, 1]) < delta_eff:  # Condition pour s'assurer que delta ne diverge pas\n",
    "            k1=-2*H(t)*delta_p[n-1, 1] + 1.5*(H(t)**2)*delta_p[n-1, 0]*(1+delta_p[n-1, 0])\\\n",
    "               +(4/3)*((delta_p[n-1,1]**2)/(1+delta_p[n-1, 0]))\n",
    "            k2= fonction_nonlin([delta_p[n-1,0],delta_p[n-1,1]+dt*k1],t+dt)\n",
    "            delta_p[n,1]= delta_p[n-1,1] + 0.5*dt*(k1+k2)\n",
    "            delta_p[n,0]= delta_p[n-1,0] + delta_p[n-1,1]*dt\n",
    "        else:\n",
    "            delta_p[n, 0] = delta_eff + 1\n",
    "            delta_p[n, 1] = delta_p[n - 1, 1]\n",
    "    delta_p[delta_p[:, 0] > delta_eff, 0] = delta_eff\n",
    "    argmax = delta_p[:, 1].argmax()\n",
    "    delta_p[delta_p[:, 1] > delta_p[argmax - 1, 1], 1] = delta_p[argmax - 1, 1]\n",
    "    if delta_p[-1,0] != delta_eff:\n",
    "        temps_eff=0\n",
    "#         print(\"La surdensité ne s'est pas encore effondrée \")\n",
    "    else:\n",
    "        argmax=delta_p[:,0].argmax()\n",
    "        temps_eff=ttab[argmax]\n",
    "        print(\"Effondrement à \", temps_eff / milliard_annee, \"milliards d'années, indice\", argmax)\n",
    "    return (delta_p,temps_eff)\n"
   ]
  },
  {
   "cell_type": "markdown",
   "id": "illegal-abraham",
   "metadata": {},
   "source": [
    "**Runge-Kutta 4**"
   ]
  },
  {
   "cell_type": "code",
   "execution_count": 21,
   "id": "posted-ambassador",
   "metadata": {},
   "outputs": [],
   "source": [
    "def rk4(delta_i, delta_eff):\n",
    "    pi = delta_i * H(ti)\n",
    "    delta_p = np.zeros((len(ttab), 2))\n",
    "    delta_p[0, 0], delta_p[0, 1] = delta_i, pi\n",
    "    for n in range(1, len(ttab)):\n",
    "        t = ttab[n]\n",
    "        if (delta_p[n - 1, 0] and delta_p[n - 1, 1]) < delta_eff: # Condition pour s'assurer que delta ne diverge pas\n",
    "            k1 = -2 * H(t) * delta_p[n - 1, 1] + 1.5 * (H(t) ** 2) * delta_p[n - 1, 0] * (1 + delta_p[n - 1, 0]) \\\n",
    "                 + (4 / 3) * ((delta_p[n - 1, 1] ** 2) / (1 + delta_p[n - 1, 0]))\n",
    "            k2 = fonction_nonlin([delta_p[n - 1, 0], delta_p[n - 1, 1] + (dt * k1) / 2], t + dt / 2)\n",
    "            k3 = fonction_nonlin([delta_p[n - 1, 0], delta_p[n - 1, 1] + (dt * k2) / 2], t + dt / 2)\n",
    "            k4 = fonction_nonlin([delta_p[n - 1, 0], delta_p[n - 1, 1] + (dt * k3) / 2], t + dt)\n",
    "            delta_p[n, 1] = delta_p[n - 1, 1] + (dt / 6) * (k1 + 2 * k2 + 2 * k3 + k4)\n",
    "            delta_p[n, 0] = delta_p[n - 1, 0] + delta_p[n - 1, 1] * dt\n",
    "        else:\n",
    "            delta_p[n, 0] = delta_eff + 1\n",
    "            delta_p[n, 1] = delta_p[n - 1, 1]\n",
    "    delta_p[delta_p[:, 0] > delta_eff, 0] = delta_eff\n",
    "    argmax = delta_p[:, 1].argmax()\n",
    "    delta_p[delta_p[:, 1] > delta_p[argmax - 1, 1], 1] = delta_p[argmax - 1, 1]\n",
    "    if delta_p[-1, 0] != delta_eff:\n",
    "        temps_eff = 0\n",
    "#         print(\"La surdensité ne s'est pas encore effondrée \")\n",
    "    else:\n",
    "        argmax = delta_p[:, 0].argmax()\n",
    "        temps_eff = ttab[argmax]\n",
    "        print(\"Effondrement à \", temps_eff / milliard_annee, \"milliards d'années, indice\", argmax)\n",
    "    return delta_p, temps_eff\n"
   ]
  },
  {
   "cell_type": "code",
   "execution_count": 22,
   "id": "cross-filling",
   "metadata": {},
   "outputs": [],
   "source": [
    "def rk4_modif(delta_i, delta_eff):\n",
    "    \n",
    "    delta_p = np.zeros((len(ttab), 2))\n",
    "    \n",
    "    pi = delta_i * H(ti)\n",
    "    delta_p[0, 0] = delta_i\n",
    "    delta_p[0, 1] = pi    \n",
    "    \n",
    "    n, t, t_final = 1, ttab[1], ttab[-1]\n",
    "\n",
    "    while t < t_final and (delta_p[n - 1, 0] and delta_p[n - 1, 1]) < delta_eff:\n",
    "\n",
    "        k1 = fonction_nonlin([delta_p[n - 1, 0], delta_p[n - 1, 1]], t)\n",
    "        k2 = fonction_nonlin([delta_p[n - 1, 0], delta_p[n - 1, 1] + (dt * k1) / 2], t + dt / 2)\n",
    "        k3 = fonction_nonlin([delta_p[n - 1, 0], delta_p[n - 1, 1] + (dt * k2) / 2], t + dt / 2)\n",
    "        k4 = fonction_nonlin([delta_p[n - 1, 0], delta_p[n - 1, 1] + (dt * k3) / 2], t + dt)\n",
    "        \n",
    "        delta_p[n, 1] = delta_p[n - 1, 1] + (dt / 6) * (k1 + 2 * k2 + 2 * k3 + k4)\n",
    "        delta_p[n, 0] = delta_p[n - 1, 0] + delta_p[n - 1, 1] * dt\n",
    "        \n",
    "        t = t + dt\n",
    "        n += 1\n",
    "        \n",
    "    delta_p[delta_p[:, 0] > delta_eff, 0] = delta_eff   # Les valeurs supérieures à delta_eff sont remises à delta_eff\n",
    "    delta_p[delta_p[:, 0] == 0, 0] = delta_eff          # Si la boucle pas terminée, on donne valeur delta_eff aux 0\n",
    "    \n",
    "    \n",
    "    return delta_p, t"
   ]
  },
  {
   "cell_type": "markdown",
   "id": "actual-williams",
   "metadata": {},
   "source": [
    "**Solutions**"
   ]
  },
  {
   "cell_type": "code",
   "execution_count": 23,
   "id": "nuclear-willow",
   "metadata": {},
   "outputs": [
    {
     "name": "stdout",
     "output_type": "stream",
     "text": [
      "Effondrement à  0.6406079921608733 milliards d'années, indice 229\n",
      "Wall time: 20.1 ms\n"
     ]
    }
   ],
   "source": [
    "%%time\n",
    "nl_rk2, tnl_rk2 = rk2(1e-2, 1e4) "
   ]
  },
  {
   "cell_type": "code",
   "execution_count": 24,
   "id": "blessed-freeware",
   "metadata": {},
   "outputs": [
    {
     "name": "stdout",
     "output_type": "stream",
     "text": [
      "Effondrement à  0.7021222970846254 milliards d'années, indice 251\n",
      "Wall time: 39 ms\n"
     ]
    }
   ],
   "source": [
    "%%time\n",
    "nl_rk4, tnl_rk4 = rk4(1e-2, 1e4) "
   ]
  },
  {
   "cell_type": "code",
   "execution_count": 25,
   "id": "saving-world",
   "metadata": {},
   "outputs": [
    {
     "name": "stdout",
     "output_type": "stream",
     "text": [
      "Wall time: 15.7 ms\n"
     ]
    }
   ],
   "source": [
    "%%time\n",
    "nl_rk4_test, nl_t_test = rk4_modif(1e-2, 1e4)"
   ]
  },
  {
   "cell_type": "markdown",
   "id": "choice-option",
   "metadata": {},
   "source": [
    "\n",
    "\n",
    "|                       | **Runge-Kutta 2** | **Runge-Kutta 4** |  **RK4 modifiée**           |\n",
    "|-----------------------|-------------------|-------------------|-----------------------------|\n",
    "| **Solution :**        |      0.64         |  0.70             |  0.71                       |   \n",
    "| **Temps de calcul :** |    9 ms           |      12 ms        |         8 ms                | \n"
   ]
  },
  {
   "cell_type": "markdown",
   "id": "infinite-yellow",
   "metadata": {},
   "source": [
    "**Graphes**"
   ]
  },
  {
   "cell_type": "code",
   "execution_count": 26,
   "id": "silver-induction",
   "metadata": {},
   "outputs": [
    {
     "data": {
      "image/png": "[encoded data removed]",
      "text/plain": [
       "<Figure size 432x288 with 1 Axes>"
      ]
     },
     "metadata": {
      "needs_background": "light"
     },
     "output_type": "display_data"
    }
   ],
   "source": [
    "plt.title(\"Temps d'effondrement en régime non-linéaire\")\n",
    "plt.plot(ttab_milliard, nl_rk2[:, 0], label='Runge-Kutta 2')\n",
    "plt.plot(ttab_milliard, nl_rk4[:, 0], label='Runge-Kutta 4')\n",
    "plt.plot(ttab_milliard, nl_rk4_test[:, 0], label='RK4 test')\n",
    "plt.xlabel(\"Temps (milliards d'années)\")\n",
    "plt.ylabel('Surdensité')\n",
    "plt.xscale('log')\n",
    "plt.yscale('log')\n",
    "plt.legend() \n",
    "plt.show()"
   ]
  },
  {
   "cell_type": "markdown",
   "id": "liberal-chess",
   "metadata": {},
   "source": [
    "## 4. Itérations sur les paramètres"
   ]
  },
  {
   "cell_type": "markdown",
   "id": "reduced-founder",
   "metadata": {},
   "source": [
    "| Temps minimum d'effondrement | Age de l'univers    | Temps maximum d'effondrement |\n",
    "|------------------------------|---------------------|------------------------------|\n",
    "| Surdensité maximum           | Surdensité cherchée | Surdensité minimum           |\n",
    "\n",
    "**On veut donc s'assurer que :**\n",
    "- Le temps d'effondrement maximal soit supérieur à l'âge de l'univers\n",
    "- Le temps d'effondrement minimal soit inférieur à l'âge de l'univers"
   ]
  },
  {
   "cell_type": "markdown",
   "id": "boxed-discount",
   "metadata": {},
   "source": [
    "### 1. Surdensité initiale telle que $t_{eff}$ égal l'âge de l'univers"
   ]
  },
  {
   "cell_type": "code",
   "execution_count": null,
   "id": "alone-lawrence",
   "metadata": {},
   "outputs": [],
   "source": [
    "t_eff = 2 / (3 * H0) # L'âge de l'univers\n",
    "\n",
    "# TODO : Revoir les conditions \n",
    "\n",
    "def cond_init(d_i_min, d_i_max, tolerance, delta_eff, t_eff=t_eff):\n",
    "    \n",
    "    # Chercher le temps d'effondrement pour d_i_min:\n",
    "    sol1, temps_eff_max = rk4_modif(d_i_min, delta_eff)\n",
    "    print(\"Temps max d'effondrement\", temps_eff_max/milliard_annee)\n",
    "    if temps_eff_max/milliard_annee > t_eff:   # Si temps d'effondrement pour la plus petite surdensité est inférieur à l'âge de l'univers\n",
    "        print(\"Surdensité minimum trop grande\")\n",
    "        return\n",
    "\n",
    "\n",
    "   # Chercher le temps d'effondrement pour d_i_min:\n",
    "    sol2, temps_eff_min = rk4_modif(d_i_max, delta_eff)\n",
    "    print(\"Temps max d'effondrement\", temps_eff_min/milliard_annee)\n",
    "    \n",
    "    if t_eff < temps_eff_min/milliard_annee:  # Si temps d'effondrement pour la plus grande surdensité est inférieur à l'âge de l'univers\n",
    "        print(\"Surdensité maximum trop grande\")\n",
    "        return\n",
    "\n",
    "    inter = abs(d_i_max - d_i_min)\n",
    "    \n",
    "    while inter > tolerance:\n",
    "        milieu = (d_i_min + d_i_max) / 2\n",
    "        sol, temps_moy = rk4_modif(milieu, delta_eff)\n",
    "        \n",
    "        if temps_moy > t_eff:\n",
    "            d_i_min = milieu\n",
    "        else:\n",
    "            d_i_max = milieu\n",
    "            \n",
    "        inter = d_i_max - d_i_min\n",
    "        \n",
    "    surd_init = (d_i_max + d_i_min) / 2\n",
    "    return surd_init"
   ]
  },
  {
   "cell_type": "code",
   "execution_count": null,
   "id": "champion-labor",
   "metadata": {},
   "outputs": [],
   "source": [
    "%%time\n",
    "surd_init = cond_init(1e-6, 1e-1, 1e-7, 1e4)\n",
    "print(\"Surdensité initiale:\", surd_init)"
   ]
  },
  {
   "cell_type": "markdown",
   "id": "respiratory-terminal",
   "metadata": {},
   "source": [
    "### 2. Itération sur la surdensité initiale $\\delta_i$"
   ]
  },
  {
   "cell_type": "markdown",
   "id": "discrete-effectiveness",
   "metadata": {},
   "source": [
    "**TODO :** Enregistrer les résultats dans un même fichier csv"
   ]
  },
  {
   "cell_type": "code",
   "execution_count": null,
   "id": "hazardous-tender",
   "metadata": {},
   "outputs": [],
   "source": [
    "temps_eff = open(\"temps_eff.txt\", \"w\")\n",
    "surdens_init = open(\"surdensité_initiale.txt\", \"w\")\n",
    "# On part de la surdensité qui s'effondre à l'âge de l'univers\n",
    "surd_init = np.linspace(0.001777656936645508, 15 * 0.001777656936645508, 100)\n",
    "for delta_i in (surd_init):\n",
    "    z, eff = rk4(delta_i, 1e4)\n",
    "    temps_eff.write(\"{}\\n\".format(str(eff)))\n",
    "    surdens_init.write(\"{}\\n\".format(str(delta_i)))\n",
    "temps_eff.close()\n",
    "surdens_init.close()"
   ]
  },
  {
   "cell_type": "markdown",
   "id": "grand-salon",
   "metadata": {},
   "source": [
    "- On part de la surdensité qui s'effondre à l'âge de l'univers"
   ]
  },
  {
   "cell_type": "code",
   "execution_count": null,
   "id": "vietnamese-count",
   "metadata": {},
   "outputs": [],
   "source": [
    "surd_init_tab = np.linspace(surd_init, 15 * surd_init, 100)\n",
    "\n",
    "with open('iter_surd_ini.csv', 'w', newline='') as iter_init:\n",
    "    titres_colonnes = ['surd_init', 'temps_eff']\n",
    "    \n",
    "    csv_writer = csv.DictWriter(iter_init, fieldnames=titres_colonnes, delimiter='\\t')\n",
    "    csv_writer.writeheader()\n",
    "    \n",
    "    for delta_i in (surd_init_tab):\n",
    "        delta, t_eff = rk4_modif(delta_i, 1e4)\n",
    "        csv_writer.writerow({'surd_init':delta_i, 'temps_eff':t_eff})"
   ]
  },
  {
   "cell_type": "code",
   "execution_count": null,
   "id": "stuffed-remainder",
   "metadata": {},
   "outputs": [],
   "source": [
    "df = pd.read_csv('iter_surd_ini.csv', delimiter='\\t')\n",
    "df.plot(x='surd_init', y='temps_eff')"
   ]
  },
  {
   "cell_type": "markdown",
   "id": "italian-implementation",
   "metadata": {},
   "source": [
    "### 3. Itération sur la surdensité d'effondrement $\\delta_{eff}$\n"
   ]
  },
  {
   "cell_type": "code",
   "execution_count": null,
   "id": "negative-illness",
   "metadata": {},
   "outputs": [],
   "source": [
    "temps_eff = open(\"temps_deltaeff.txt\", \"w\")\n",
    "surdens_eff = open(\"Delta_eff.txt\", \"w\")\n",
    "surd_eff = np.linspace(1e3, 1e6, 1000)\n",
    "for delta_eff in (surd_eff):\n",
    "    z, eff = rk4(4 * surd_init, delta_eff)\n",
    "    temps_eff.write(\"{}\\n\".format(str(eff)))\n",
    "    surdens_eff.write(\"{}\\n\".format(str(delta_eff)))\n",
    "temps_eff.close()\n",
    "surdens_eff.close()"
   ]
  },
  {
   "cell_type": "markdown",
   "id": "powered-entrance",
   "metadata": {},
   "source": [
    "### 4. Influence du pas de temps"
   ]
  },
  {
   "cell_type": "code",
   "execution_count": null,
   "id": "specific-country",
   "metadata": {},
   "outputs": [],
   "source": [
    "temps_fctN = open(\"temps_fctN.txt\", \"w\")\n",
    "pas_temps = open(\"pas_temps.txt\", \"w\")\n",
    "for N in range(5000, 10000):\n",
    "    temps = np.linspace(ti, tf, round(N))\n",
    "    dt1 = (tf - ti) / N\n",
    "    z, eff = rk4(4 * surd_init, 3 * 1e4)\n",
    "    temps_fctN.write(\"{}\\n\".format(str(eff)))\n",
    "    pas_temps.write(\"{}\\n\".format(str(dt1)))\n",
    "temps_fctN.close()\n",
    "pas_temps.close() "
   ]
  },
  {
   "cell_type": "markdown",
   "id": "appreciated-postcard",
   "metadata": {},
   "source": [
    "## 5. Surdensité viriel"
   ]
  },
  {
   "cell_type": "code",
   "execution_count": null,
   "id": "fresh-taylor",
   "metadata": {},
   "outputs": [],
   "source": [
    "x, teff = rk4(4 * surd_init, 3 * 1e4)\n",
    "Masse = 1e16  # N'influe pas sur le résultat final de la surdensité\n",
    "delta = x[:, 0]\n",
    "dv = x[:, 1]"
   ]
  },
  {
   "cell_type": "markdown",
   "id": "electronic-vegetable",
   "metadata": {},
   "source": [
    "### 1. Evolution du rayon en fonction de la surdensité"
   ]
  },
  {
   "cell_type": "code",
   "execution_count": null,
   "id": "regular-candidate",
   "metadata": {},
   "outputs": [],
   "source": [
    "x, teff = rk4(4 * surd_init, 3 * 1e4)\n",
    "Masse = 1e16  # N'influe pas sur le résultat final de la surdensité\n",
    "delta = x[:, 0]\n",
    "dv = x[:, 1]"
   ]
  },
  {
   "cell_type": "markdown",
   "id": "senior-scout",
   "metadata": {},
   "source": [
    "### 2. Rayon viriel "
   ]
  },
  {
   "cell_type": "markdown",
   "id": "cutting-turkey",
   "metadata": {},
   "source": [
    "#### Méthode 1 $\\rightarrow$ $R_{vir} = R_{max}/2$ "
   ]
  },
  {
   "cell_type": "code",
   "execution_count": null,
   "id": "coupled-ukraine",
   "metadata": {},
   "outputs": [],
   "source": [
    "R = ((3 * Masse) / (4 * np.pi * rho_m(ttab) * (1 + delta))) ** (1 / 3)\n",
    "Rmax, imax = R.max(), R.argmax()\n",
    "tmax = ttab[imax]\n",
    "Rvir = Rmax * 0.5 "
   ]
  },
  {
   "cell_type": "markdown",
   "id": "owned-animation",
   "metadata": {},
   "source": [
    "#### Méthode 2 $\\rightarrow$ $2E_c + E_{pp} = 0$"
   ]
  },
  {
   "cell_type": "code",
   "execution_count": null,
   "id": "italian-sunset",
   "metadata": {},
   "outputs": [],
   "source": [
    "def vitesse(R_final):\n",
    "    R = R_final\n",
    "    v = np.zeros(len(R))\n",
    "    v_test = np.zeros(len(R))\n",
    "    for i in range(0, len(R)):\n",
    "        t = ttab[i]\n",
    "        v[i] = H(t) * R[i] * (1 - (dv[i] * R[i] ** 3) / (9 * Masse * G * t))\n",
    "        v_test[i] = H(t) * R[i] - (R[i] * dv[i]) / (3 * (1 + delta[i]))\n",
    "    return (v, v_test)\n",
    "\n",
    "\n",
    "def Vitesse_alter(R):  # VITESSE CALCULEE DIRECTEMENT A PARTIR DE R ET dt\n",
    "    V = np.zeros(len(R))\n",
    "    for i in range(0, len(R) - 1):\n",
    "        dR = R[i + 1] - R[i]\n",
    "        V[i] = dR / dt\n",
    "    return V\n",
    "\n",
    "# Formule pour l'énergie cinétique\n",
    "def Ecin(Rcourt, vitesse):\n",
    "    R = Rcourt\n",
    "    Ecin = np.zeros(len(R))\n",
    "    for i in range(0, len(R)):\n",
    "        v = vitesse[i]\n",
    "        Ecin[i] = (3 * Masse * v ** 2) / 10\n",
    "    return Ecin"
   ]
  },
  {
   "cell_type": "code",
   "execution_count": null,
   "id": "variable-nursery",
   "metadata": {},
   "outputs": [],
   "source": [
    "# Calcul des vitesses via méthodes numériques et formule analytique\n",
    "v, vtest = vitesse(R_final)\n",
    "Vitesse2 = Vitesse_alter(R_final)\n",
    "\n",
    "# Calcul des énergies - On regarde où est-ce qu'elles se croisent pour déterminer le rayon viriel (méthode 2)\n",
    "Epp = -(3 * G * Masse ** 2) / (5 * R_final)\n",
    "Ec = Ecin(R_final, v)\n",
    "Ectest = Ecin(R_final, Vitesse2)\n",
    "Epvir = (3 * G * Masse ** 2) / (5 * Rvir)"
   ]
  },
  {
   "cell_type": "markdown",
   "id": "alpha-makeup",
   "metadata": {},
   "source": [
    "**Graphes**"
   ]
  },
  {
   "cell_type": "code",
   "execution_count": null,
   "id": "editorial-session",
   "metadata": {},
   "outputs": [],
   "source": []
  },
  {
   "cell_type": "markdown",
   "id": "decimal-effectiveness",
   "metadata": {},
   "source": [
    "### 3. Surdensité viriel finale"
   ]
  },
  {
   "cell_type": "code",
   "execution_count": null,
   "id": "focused-state",
   "metadata": {},
   "outputs": [],
   "source": [
    "# Fonction pour déterminer t lorsque Rviriel est atteint\n",
    "\n",
    "def t_viriel(borne_min, borne_max, tolerance, R, Rvir):\n",
    "    for i in R[borne_min:borne_max]:\n",
    "        inter = abs(i - Rvir)\n",
    "        t = ttab[borne_min]\n",
    "        while inter > tolerance:\n",
    "            milieu = (borne_min + borne_max) / 2\n",
    "            if i > Rvir:\n",
    "                borne_min = milieu\n",
    "            else:\n",
    "                borne_max = milieu\n",
    "            inter = borne_max - borne_min\n",
    "            t += 1\n",
    "        return t\n",
    "# Fonction qui fait évoluer la surdensité après la surdensité viriel\n",
    "\n",
    "def surdensité(indice):\n",
    "    for i in range(0, indice):\n",
    "        delta[i] = delta[i]\n",
    "    for i in range(indice, len(delta)):\n",
    "        delta[i] = rho_vir / rho_m(ttab[i]) - 1\n",
    "    return delta"
   ]
  },
  {
   "cell_type": "code",
   "execution_count": null,
   "id": "mediterranean-october",
   "metadata": {},
   "outputs": [],
   "source": [
    "# On ajuste les valeurs de la surdensité une fois R_vir atteint\n",
    "\n",
    "tvir1 = t_viriel(377, 378, 1e-6, R, Rvir)\n",
    "rho_vir = (3 * Masse) / (4 * np.pi * Rvir ** 3)  # Densité volumique de virialisation\n",
    "delta_vir = rho_vir / rho_m(tvir1) - 1  # Surdensité viriel\n",
    "delta[delta > delta_vir] = delta_vir  # Obsolète\n",
    "indice = delta.argmax()\n",
    "print(\"Indice de la virialisation :\", indice)\n",
    "print(f\"Temps viriel calculé avec la fonction : {tvir1/milliard_annee} milliards d'années\")\n",
    "\n",
    "# Rayon et surdensité finaux\n",
    "delta_final = surdensité(indice)\n",
    "R_final = ((3 * Masse) / (4 * np.pi * rho_m(ttab) * (1 + delta_final))) ** (1 / 3)\n",
    "\n",
    "print(\"Surdensité viriel finale :\", 1 + delta_vir * (a(teff) / a(tvir1)) ** 3)\n",
    "# print(delta_final[410] + 1)"
   ]
  },
  {
   "cell_type": "markdown",
   "id": "norman-decimal",
   "metadata": {},
   "source": [
    "## 6. Visualisation 3D"
   ]
  },
  {
   "cell_type": "markdown",
   "id": "unauthorized-supplier",
   "metadata": {},
   "source": [
    "*Faire l'animation mais en intéraction avec un slider*"
   ]
  },
  {
   "cell_type": "code",
   "execution_count": null,
   "id": "cordless-above",
   "metadata": {},
   "outputs": [],
   "source": [
    "def update(num, x, y, z, plot):\n",
    "    plot[0].remove()\n",
    "    r = R_final[num]\n",
    "    x_ = x * r\n",
    "    y_ = y * r\n",
    "    z_ = z * r\n",
    "    title = 'Rayon au temps t = ' + str(round(ttab1[num], 2)) + \"  milliards d'années\"\n",
    "    ax.set_title(title, fontsize=15)\n",
    "    plot[0] = ax.plot_surface(x_, y_, z_, cmap=\"hot\")\n",
    "    if ttab[num] > tvir1:\n",
    "        fake2Dline = matplotlib.lines.Line2D([0], [0], linestyle=\"none\", c='orange', marker='o')\n",
    "        plot[0] = ax.plot_surface(x_, y_, z_, cmap=\"hot\")\n",
    "        ax.legend([fake2Dline], [\"Rayon de virialisation atteint\"], fontsize=12, numpoints=1)\n",
    "# Coordonnées de la sphère\n",
    "\n",
    "u = np.linspace(0, 2 * np.pi, 100)\n",
    "v = np.linspace(0, np.pi, 100)\n",
    "\n",
    "x = 2 * np.outer(np.cos(u), np.sin(v))\n",
    "y = 2 * np.outer(np.sin(u), np.sin(v))\n",
    "z = 2 * np.outer(np.ones(np.size(u)), np.cos(v))\n",
    "\n",
    "# Délimitation des axes\n",
    "ax.set_xlim(- R_final[-1] * 5, R_final[-1] * 5)\n",
    "ax.set_ylim(- R_final[-1] * 5, R_final[-1] * 5)\n",
    "ax.set_zlim(- R_final[-1] * 5, R_final[-1] * 5)\n",
    "ax.set_axis_off()\n",
    "plot = [ax.plot_surface(x, y, z)]\n",
    "ax.set_facecolor('k')"
   ]
  },
  {
   "cell_type": "code",
   "execution_count": null,
   "id": "intermediate-basketball",
   "metadata": {},
   "outputs": [],
   "source": []
  }
 ],
 "metadata": {
  "kernelspec": {
   "display_name": "Python 3",
   "language": "python",
   "name": "python3"
  },
  "language_info": {
   "codemirror_mode": {
    "name": "ipython",
    "version": 3
   },
   "file_extension": ".py",
   "mimetype": "text/x-python",
   "name": "python",
   "nbconvert_exporter": "python",
   "pygments_lexer": "ipython3",
   "version": "3.9.2"
  }
 },
 "nbformat": 4,
 "nbformat_minor": 5
}
